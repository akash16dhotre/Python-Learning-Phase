{
  "nbformat": 4,
  "nbformat_minor": 0,
  "metadata": {
    "colab": {
      "name": "Untitled0.ipynb",
      "provenance": [],
      "include_colab_link": true
    },
    "kernelspec": {
      "name": "python3",
      "display_name": "Python 3"
    }
  },
  "cells": [
    {
      "cell_type": "markdown",
      "metadata": {
        "id": "view-in-github",
        "colab_type": "text"
      },
      "source": [
        "<a href=\"https://colab.research.google.com/github/eulers-identity/Python-Learning-Phase/blob/master/w3resource.com/Python%20Basic%20(Part%20-I).ipynb\" target=\"_parent\"><img src=\"https://colab.research.google.com/assets/colab-badge.svg\" alt=\"Open In Colab\"/></a>"
      ]
    },
    {
      "cell_type": "markdown",
      "metadata": {
        "id": "Ajx0WR9d8-w5",
        "colab_type": "text"
      },
      "source": [
        "# **Python Basic (Part -I)**"
      ]
    },
    {
      "cell_type": "markdown",
      "metadata": {
        "id": "8yO8VH45-92s",
        "colab_type": "text"
      },
      "source": [
        "**1. Write a Python program to print the following string in a specific format (see the output).**\n",
        "\n",
        "Sample String: \"Twinkle, twinkle, little star, How I wonder what you are! Up above the world so high, Like a diamond in the sky. Twinkle, twinkle, little star, How I wonder what you are!\""
      ]
    },
    {
      "cell_type": "code",
      "metadata": {
        "id": "pxe2kJ5r9Ilj",
        "colab_type": "code",
        "outputId": "6a6af47c-88b5-4133-e0fc-728a9c036c99",
        "colab": {
          "base_uri": "https://localhost:8080/",
          "height": 118
        }
      },
      "source": [
        "print(\"Twinkle, twinkle, little star, \\n\\tHow I wonder what you are! \\n\\t\\tUp above the world so high, \\n\\t\\tLike a diamond in the sky. \\nTwinkle, twinkle, little star, \\n\\tHow I wonder what you are!\")\n",
        "\n",
        "# /n adds break in line\n",
        "# /t adds tab to the line"
      ],
      "execution_count": 0,
      "outputs": [
        {
          "output_type": "stream",
          "text": [
            "Twinkle, twinkle, little star, \n",
            "\tHow I wonder what you are! \n",
            "\t\tUp above the world so high, \n",
            "\t\tLike a diamond in the sky. \n",
            "Twinkle, twinkle, little star, \n",
            "\tHow I wonder what you are!\n"
          ],
          "name": "stdout"
        }
      ]
    },
    {
      "cell_type": "markdown",
      "metadata": {
        "id": "dh0W2YrJ86Fs",
        "colab_type": "text"
      },
      "source": [
        "**2. Write a Python program to get the Python version you are using.**"
      ]
    },
    {
      "cell_type": "code",
      "metadata": {
        "id": "kiDazZ-H_sNq",
        "colab_type": "code",
        "outputId": "4bdbbd96-4432-49eb-b512-4d1fdbcf4038",
        "colab": {
          "base_uri": "https://localhost:8080/",
          "height": 67
        }
      },
      "source": [
        "import sys\n",
        "print (sys.version)\n",
        "print (sys.version_info)"
      ],
      "execution_count": 0,
      "outputs": [
        {
          "output_type": "stream",
          "text": [
            "3.6.8 (default, Oct  7 2019, 12:59:55) \n",
            "[GCC 8.3.0]\n",
            "sys.version_info(major=3, minor=6, micro=8, releaselevel='final', serial=0)\n"
          ],
          "name": "stdout"
        }
      ]
    },
    {
      "cell_type": "markdown",
      "metadata": {
        "id": "xaH9J-VdGO4o",
        "colab_type": "text"
      },
      "source": [
        "A tuple containing the five components of the version number: major, minor, micro, releaselevel, and serial.\n",
        "All values except releaselevel are integers; the release level is 'alpha', 'beta', 'candidate', or 'final'.\n",
        "The version_info value corresponding to the Python version 2.0 is (2, 0, 0, 'final', 0). \n",
        "The components can also be accessed by name, so sys.version_info[0] is equivalent to sys.version_info.major and so on.\n",
        "\n",
        "Note : 'sys' module provides access to some variables used or maintained by the interpreter and to functions that interact strongly with the interpreter"
      ]
    },
    {
      "cell_type": "markdown",
      "metadata": {
        "id": "itbcBRO4_rRZ",
        "colab_type": "text"
      },
      "source": [
        "**3. Write a Python program to display the current date and time.**"
      ]
    },
    {
      "cell_type": "markdown",
      "metadata": {
        "id": "hxwacueu_rN1",
        "colab_type": "text"
      },
      "source": [
        ""
      ]
    },
    {
      "cell_type": "code",
      "metadata": {
        "id": "5muAYNR2Cb2i",
        "colab_type": "code",
        "outputId": "3eac07f5-5acf-41dc-a8f2-7a36dd06a033",
        "colab": {
          "base_uri": "https://localhost:8080/",
          "height": 151
        }
      },
      "source": [
        "import datetime\n",
        "now = datetime.datetime.now()\n",
        "print(\"Datetime variable value =\",now)\n",
        "print(\"Datetime variable type =\",type(now))\n",
        "\n",
        "#by default, python shows time till precision of nanoseconds. This behaviour can be manipulated with strftime function.\n",
        "#date.strftime(format) returns a string representing the date, controlled by an explicit format string. Format codes referring to hours, minutes or seconds will see 0 values.\n",
        "#Changing Y to upper and lower case also formats the value.\n",
        "\n",
        "print (now.strftime(\"%Y-%m-%d %H:%M:%S\"))\n",
        "print (\"Date =\",now.strftime(\"%Y-%m-%d\"))\n",
        "print (\"Date / seperated =\",now.strftime(\"%Y/%m/%d\"))\n",
        "print (\"Month =\",now.strftime(\"%M\"))\n",
        "print (\"Year with Y =\",now.strftime(\"%Y\"))\n",
        "print (\"Year with y =\",now.strftime(\"%y\"))"
      ],
      "execution_count": 0,
      "outputs": [
        {
          "output_type": "stream",
          "text": [
            "Datetime variable value = 2019-12-04 18:20:26.212547\n",
            "Datetime variable type = <class 'datetime.datetime'>\n",
            "2019-12-04 18:20:26\n",
            "Date = 2019-12-04\n",
            "Date / seperated = 2019/12/04\n",
            "Month = 20\n",
            "Year with Y = 2019\n",
            "Year with y = 19\n"
          ],
          "name": "stdout"
        }
      ]
    },
    {
      "cell_type": "markdown",
      "metadata": {
        "id": "m7hdpgnZ_rLp",
        "colab_type": "text"
      },
      "source": [
        "**4. Write a Python program which accepts the radius of a circle from the user and compute the area.**"
      ]
    },
    {
      "cell_type": "code",
      "metadata": {
        "id": "-5qbTx8DGyAg",
        "colab_type": "code",
        "outputId": "8b4dc57f-d86e-4ec5-a5a9-ffd8e199c6ee",
        "colab": {
          "base_uri": "https://localhost:8080/",
          "height": 67
        }
      },
      "source": [
        "import math\n",
        "pi_value = math.pi\n",
        "print(\"High precision value of pi =\",pi_value)\n",
        "\n",
        "def circlearea(radius):\n",
        "  area = math.pi * radius * radius\n",
        "  return area\n",
        "\n",
        "radius = float(input(\"Enter the radius of circle : \"))\n",
        "print(\"Area of circle with radius {} units = {} sqr units\".format(radius,circlearea(radius)))"
      ],
      "execution_count": 0,
      "outputs": [
        {
          "output_type": "stream",
          "text": [
            "High precision value of pi = 3.141592653589793\n",
            "Enter the radius of circle : 12\n",
            "Area of circle with radius 12.0 units = 452.3893421169302 sqr units\n"
          ],
          "name": "stdout"
        }
      ]
    },
    {
      "cell_type": "markdown",
      "metadata": {
        "id": "Js3a422B_rHt",
        "colab_type": "text"
      },
      "source": [
        "**6. Write a Python program which accepts a sequence of comma-separated numbers from user and generate a list and a tuple with those numbers.**\n",
        "\n",
        "Sample data : 3, 5, 7, 23\n",
        "Output :\n",
        "List : ['3', ' 5', ' 7', ' 23']\n",
        "Tuple : ('3', ' 5', ' 7', ' 23')"
      ]
    },
    {
      "cell_type": "code",
      "metadata": {
        "id": "qo7IlOC9J_o6",
        "colab_type": "code",
        "outputId": "e6bddf03-1cf8-46b5-ea97-764cd5e6d61d",
        "colab": {
          "base_uri": "https://localhost:8080/",
          "height": 270
        }
      },
      "source": [
        "x = input(\"Provide set of numbers = \")\n",
        "print(x)\n",
        "listofnum = x.split(\",\")\n",
        "tupleofnum = tuple(list)\n",
        "print('List : ',list)\n",
        "print('Tuple : ',tuple)"
      ],
      "execution_count": 0,
      "outputs": [
        {
          "output_type": "stream",
          "text": [
            "Provide set of numbers = 1,2,4\n",
            "1,2,4\n"
          ],
          "name": "stdout"
        },
        {
          "output_type": "error",
          "ename": "TypeError",
          "evalue": "ignored",
          "traceback": [
            "\u001b[0;31m---------------------------------------------------------------------------\u001b[0m",
            "\u001b[0;31mTypeError\u001b[0m                                 Traceback (most recent call last)",
            "\u001b[0;32m<ipython-input-1-c14e32cd8245>\u001b[0m in \u001b[0;36m<module>\u001b[0;34m()\u001b[0m\n\u001b[1;32m      2\u001b[0m \u001b[0mprint\u001b[0m\u001b[0;34m(\u001b[0m\u001b[0mx\u001b[0m\u001b[0;34m)\u001b[0m\u001b[0;34m\u001b[0m\u001b[0;34m\u001b[0m\u001b[0m\n\u001b[1;32m      3\u001b[0m \u001b[0mlistofnum\u001b[0m \u001b[0;34m=\u001b[0m \u001b[0mx\u001b[0m\u001b[0;34m.\u001b[0m\u001b[0msplit\u001b[0m\u001b[0;34m(\u001b[0m\u001b[0;34m\",\"\u001b[0m\u001b[0;34m)\u001b[0m\u001b[0;34m\u001b[0m\u001b[0;34m\u001b[0m\u001b[0m\n\u001b[0;32m----> 4\u001b[0;31m \u001b[0mtupleofnum\u001b[0m \u001b[0;34m=\u001b[0m \u001b[0mtuple\u001b[0m\u001b[0;34m(\u001b[0m\u001b[0mlist\u001b[0m\u001b[0;34m)\u001b[0m\u001b[0;34m\u001b[0m\u001b[0;34m\u001b[0m\u001b[0m\n\u001b[0m\u001b[1;32m      5\u001b[0m \u001b[0mprint\u001b[0m\u001b[0;34m(\u001b[0m\u001b[0;34m'List : '\u001b[0m\u001b[0;34m,\u001b[0m\u001b[0mlist\u001b[0m\u001b[0;34m)\u001b[0m\u001b[0;34m\u001b[0m\u001b[0;34m\u001b[0m\u001b[0m\n\u001b[1;32m      6\u001b[0m \u001b[0mprint\u001b[0m\u001b[0;34m(\u001b[0m\u001b[0;34m'Tuple : '\u001b[0m\u001b[0;34m,\u001b[0m\u001b[0mtuple\u001b[0m\u001b[0;34m)\u001b[0m\u001b[0;34m\u001b[0m\u001b[0;34m\u001b[0m\u001b[0m\n",
            "\u001b[0;31mTypeError\u001b[0m: 'type' object is not iterable"
          ]
        }
      ]
    },
    {
      "cell_type": "markdown",
      "metadata": {
        "id": "xnXeNSZ9_rF4",
        "colab_type": "text"
      },
      "source": [
        "**7. Write a Python program to accept a filename from the user and print the extension of that.**\n",
        "\n",
        "Sample filename : abc.java\n",
        "\n",
        "Output : java"
      ]
    },
    {
      "cell_type": "code",
      "metadata": {
        "id": "EP3-EOL9LRn5",
        "colab_type": "code",
        "outputId": "e949ab57-124a-4eec-c514-3807b590ae4f",
        "colab": {
          "base_uri": "https://localhost:8080/",
          "height": 52
        }
      },
      "source": [
        "x = input(\"Enter complete filename : \")\n",
        "print(\"The file extension : {}\".format(x.split(\".\")[-1]))\n",
        "\n",
        "#str.format as well as repr.format do same thing.\n",
        "#repr is used for devlopement while str is targeted towards end user.\n",
        "#https://www.geeksforgeeks.org/str-vs-repr-in-python/"
      ],
      "execution_count": 0,
      "outputs": [
        {
          "output_type": "stream",
          "text": [
            "Enter complete filename : mybook.txt\n",
            "The file extension : txt\n"
          ],
          "name": "stdout"
        }
      ]
    },
    {
      "cell_type": "markdown",
      "metadata": {
        "id": "r3jtVtbe_rBv",
        "colab_type": "text"
      },
      "source": [
        "**8. Write a Python program to display the first and last colors from the following list.**\n",
        "\n",
        "color_list = [\"Red\",\"Green\",\"White\" ,\"Black\"]"
      ]
    },
    {
      "cell_type": "code",
      "metadata": {
        "id": "KDwLzwcRYfyF",
        "colab_type": "code",
        "outputId": "ef4293db-6328-489e-fc34-5b90997f050a",
        "colab": {
          "base_uri": "https://localhost:8080/",
          "height": 52
        }
      },
      "source": [
        "color_list = [\"Red\",\"Green\",\"White\" ,\"Black\"]\n",
        "print(\"First color : {},\\nLast color : {}\".format(color_list[0],color_list[-1]))"
      ],
      "execution_count": 0,
      "outputs": [
        {
          "output_type": "stream",
          "text": [
            "First color : Red,\n",
            "Last color : Black\n"
          ],
          "name": "stdout"
        }
      ]
    },
    {
      "cell_type": "markdown",
      "metadata": {
        "id": "xyK4B3aV_q_r",
        "colab_type": "text"
      },
      "source": [
        "**9. Write a Python program to display the examination schedule. (extract the date from exam_st_date).**\n",
        "\n",
        "exam_st_date = (11, 12, 2014)\n",
        "Sample Output : The examination will start from : 11 / 12 / 2014"
      ]
    },
    {
      "cell_type": "code",
      "metadata": {
        "id": "9tRfu2dpZ6OI",
        "colab_type": "code",
        "outputId": "6749cf95-f065-45b8-e52b-2d9d90319239",
        "colab": {
          "base_uri": "https://localhost:8080/",
          "height": 35
        }
      },
      "source": [
        "exam_st_date = (11, 12, 2014)\n",
        "print(\"Examination will start from : {}/{}/{}\".format(exam_st_date[0],exam_st_date[1],exam_st_date[2]))"
      ],
      "execution_count": 0,
      "outputs": [
        {
          "output_type": "stream",
          "text": [
            "Examination will start from : 11/12/2014\n"
          ],
          "name": "stdout"
        }
      ]
    },
    {
      "cell_type": "markdown",
      "metadata": {
        "id": "yXYKbMOz_q75",
        "colab_type": "text"
      },
      "source": [
        "**10. Write a Python program that accepts an integer (n) and computes the value of n+nn+nnn.**"
      ]
    },
    {
      "cell_type": "code",
      "metadata": {
        "id": "QgUC8wwlxLQq",
        "colab_type": "code",
        "outputId": "c7bdfafd-4817-42b5-8901-93143ac638f6",
        "colab": {
          "base_uri": "https://localhost:8080/",
          "height": 50
        }
      },
      "source": [
        "number = int(input(\"Enter a number :\"))\n",
        "\n",
        "required_value = 3*number + 20*number + 100*number\n",
        "\n",
        "print(\"Required sum = {}\".format(required_value))"
      ],
      "execution_count": 0,
      "outputs": [
        {
          "output_type": "stream",
          "text": [
            "Enter a number :2\n",
            "Required sum = 246\n"
          ],
          "name": "stdout"
        }
      ]
    },
    {
      "cell_type": "code",
      "metadata": {
        "id": "r_Ax_0edyIEV",
        "colab_type": "code",
        "outputId": "320897c2-e7cc-4ae8-9571-23993316c608",
        "colab": {
          "base_uri": "https://localhost:8080/",
          "height": 50
        }
      },
      "source": [
        "a = int(input(\"Input an integer : \"))\n",
        "n1 = int( \"%s\" % a )\n",
        "n2 = int( \"%s%s\" % (a,a) )\n",
        "n3 = int( \"%s%s%s\" % (a,a,a) )\n",
        "print (n1+n2+n3)"
      ],
      "execution_count": 0,
      "outputs": [
        {
          "output_type": "stream",
          "text": [
            "Input an integer : 1\n",
            "123\n"
          ],
          "name": "stdout"
        }
      ]
    },
    {
      "cell_type": "markdown",
      "metadata": {
        "id": "uH2xs2YV_q55",
        "colab_type": "text"
      },
      "source": [
        "**11. Write a Python program to print the documents (syntax, description etc.) of Python built-in function(s).\n",
        "Sample function : abs()\n",
        "Expected Result :\n",
        "abs(number) -> number\n",
        "Return the absolute value of the argument**"
      ]
    },
    {
      "cell_type": "code",
      "metadata": {
        "id": "k98n1_R-yDWa",
        "colab_type": "code",
        "outputId": "8fe7f138-3074-4505-c924-59f093977cc5",
        "colab": {
          "base_uri": "https://localhost:8080/",
          "height": 118
        }
      },
      "source": [
        "print(abs.__doc__)\n",
        "print(sum.__doc__)"
      ],
      "execution_count": 0,
      "outputs": [
        {
          "output_type": "stream",
          "text": [
            "Return the absolute value of the argument.\n",
            "Return the sum of a 'start' value (default: 0) plus an iterable of numbers\n",
            "\n",
            "When the iterable is empty, return the start value.\n",
            "This function is intended specifically for use with numeric values and may\n",
            "reject non-numeric types.\n"
          ],
          "name": "stdout"
        }
      ]
    },
    {
      "cell_type": "markdown",
      "metadata": {
        "id": "xe_o2d9i_q2B",
        "colab_type": "text"
      },
      "source": [
        "**12. Write a Python program to print the calendar of a given month and year.\n",
        "Note : Use 'calendar' module.**"
      ]
    },
    {
      "cell_type": "code",
      "metadata": {
        "id": "sMbcp4isy-p0",
        "colab_type": "code",
        "outputId": "f0b37daf-476f-4b1b-df92-9b42f0df98bc",
        "colab": {
          "base_uri": "https://localhost:8080/",
          "height": 218
        }
      },
      "source": [
        "import calendar\n",
        "y = int(input(\"Input the year : \"))\n",
        "m = int(input(\"Input the month : \"))\n",
        "this_month = calendar.month(y, m)\n",
        "print(this_month)\n",
        "\n",
        "print(type(this_month))"
      ],
      "execution_count": 0,
      "outputs": [
        {
          "output_type": "stream",
          "text": [
            "Input the year : 2019\n",
            "Input the month : 12\n",
            "   December 2019\n",
            "Mo Tu We Th Fr Sa Su\n",
            "                   1\n",
            " 2  3  4  5  6  7  8\n",
            " 9 10 11 12 13 14 15\n",
            "16 17 18 19 20 21 22\n",
            "23 24 25 26 27 28 29\n",
            "30 31\n",
            "\n",
            "<class 'str'>\n"
          ],
          "name": "stdout"
        }
      ]
    },
    {
      "cell_type": "markdown",
      "metadata": {
        "id": "q2yGmjLI_qz_",
        "colab_type": "text"
      },
      "source": [
        "**13. Write a Python program to print the following here document.\n",
        "Sample string :\n",
        "a string that you \"don't\" have to escape\n",
        "This\n",
        "is a ....... multi-line\n",
        "heredoc string --------> example**"
      ]
    },
    {
      "cell_type": "code",
      "metadata": {
        "id": "-Csub5ug01Cs",
        "colab_type": "code",
        "outputId": "75abc432-d293-4a17-a000-f6a072615b97",
        "colab": {
          "base_uri": "https://localhost:8080/",
          "height": 118
        }
      },
      "source": [
        "print(\"\"\"\n",
        "a string that you \"don't\" have to escape\n",
        "This\n",
        "is a  ....... multi-line\n",
        "heredoc string --------> example\n",
        "\"\"\")"
      ],
      "execution_count": 0,
      "outputs": [
        {
          "output_type": "stream",
          "text": [
            "\n",
            "a string that you \"don't\" have to escape\n",
            "This\n",
            "is a  ....... multi-line\n",
            "heredoc string --------> example\n",
            "\n"
          ],
          "name": "stdout"
        }
      ]
    },
    {
      "cell_type": "markdown",
      "metadata": {
        "id": "fWhhV-Ob_qwD",
        "colab_type": "text"
      },
      "source": [
        "**14. Write a Python program to calculate number of days between two dates.\n",
        "Sample dates : (2014, 7, 2), (2014, 7, 11)\n",
        "Expected output : 9 days**"
      ]
    },
    {
      "cell_type": "code",
      "metadata": {
        "id": "NawZz6s91a79",
        "colab_type": "code",
        "outputId": "cda36021-af2e-4821-c212-cf5bbfa778a9",
        "colab": {
          "base_uri": "https://localhost:8080/",
          "height": 34
        }
      },
      "source": [
        "from datetime import date\n",
        "f_date = date(2014, 7, 2)\n",
        "l_date = date(2014, 7, 11)\n",
        "delta = l_date - f_date\n",
        "print(delta.days)"
      ],
      "execution_count": 0,
      "outputs": [
        {
          "output_type": "stream",
          "text": [
            "9\n"
          ],
          "name": "stdout"
        }
      ]
    },
    {
      "cell_type": "markdown",
      "metadata": {
        "id": "L_TeQSGR_qt7",
        "colab_type": "text"
      },
      "source": [
        "**15. Write a Python program to get the volume of a sphere with radius 6.**"
      ]
    },
    {
      "cell_type": "code",
      "metadata": {
        "id": "pmYcp8PY2Hgg",
        "colab_type": "code",
        "outputId": "5d174c04-7479-48ab-b2b3-5dbd6be4f5c5",
        "colab": {
          "base_uri": "https://localhost:8080/",
          "height": 34
        }
      },
      "source": [
        "import math\n",
        "radius = 6\n",
        "pi = math.pi\n",
        "volume = 4/3*pi*radius*radius*radius\n",
        "volume"
      ],
      "execution_count": 0,
      "outputs": [
        {
          "output_type": "execute_result",
          "data": {
            "text/plain": [
              "904.7786842338604"
            ]
          },
          "metadata": {
            "tags": []
          },
          "execution_count": 23
        }
      ]
    },
    {
      "cell_type": "code",
      "metadata": {
        "id": "Cumn8wWb2kK4",
        "colab_type": "code",
        "outputId": "57017017-6b05-465d-ec44-b5afd1eae114",
        "colab": {
          "base_uri": "https://localhost:8080/",
          "height": 34
        }
      },
      "source": [
        "#Alternate solution\n",
        "pi = 3.1415926535897931\n",
        "r= 6.0\n",
        "V= 4.0/3.0*pi* r**3\n",
        "print('The volume of the sphere is: ',V)"
      ],
      "execution_count": 0,
      "outputs": [
        {
          "output_type": "stream",
          "text": [
            "The volume of the sphere is:  904.7786842338603\n"
          ],
          "name": "stdout"
        }
      ]
    },
    {
      "cell_type": "markdown",
      "metadata": {
        "id": "17A0EOmP_qph",
        "colab_type": "text"
      },
      "source": [
        "**16. Write a Python program to get the difference between a given number and 17, if the number is greater than 17 return double the absolute difference.**"
      ]
    },
    {
      "cell_type": "code",
      "metadata": {
        "id": "3Knqmnrn21WD",
        "colab_type": "code",
        "outputId": "1e8c712c-ea41-4304-8380-1dd893ec1338",
        "colab": {
          "base_uri": "https://localhost:8080/",
          "height": 50
        }
      },
      "source": [
        "given_no = int(input(\"Enter a number :\"))\n",
        "if given_no > 17:\n",
        "  print(given_no - 17)\n",
        "else:\n",
        "  print(17 - given_no)"
      ],
      "execution_count": 0,
      "outputs": [
        {
          "output_type": "stream",
          "text": [
            "Enter a number :6\n",
            "11\n"
          ],
          "name": "stdout"
        }
      ]
    },
    {
      "cell_type": "code",
      "metadata": {
        "id": "VoVpiaqY3kpU",
        "colab_type": "code",
        "outputId": "d8399759-b19b-43b3-f10c-f14b54d592db",
        "colab": {
          "base_uri": "https://localhost:8080/",
          "height": 50
        }
      },
      "source": [
        "#Alternate\n",
        "def difference(n):\n",
        "    if n <= 17:\n",
        "        return 17 - n\n",
        "    else:\n",
        "        return (n - 17) * 2 \n",
        "\n",
        "print(difference(22))\n",
        "print(difference(14))"
      ],
      "execution_count": 0,
      "outputs": [
        {
          "output_type": "stream",
          "text": [
            "10\n",
            "3\n"
          ],
          "name": "stdout"
        }
      ]
    },
    {
      "cell_type": "markdown",
      "metadata": {
        "id": "UNKVA0yOAQDf",
        "colab_type": "text"
      },
      "source": [
        "**17. Write a Python program to test whether a number is within 100 of 1000 or 2000.**"
      ]
    },
    {
      "cell_type": "code",
      "metadata": {
        "id": "1-r32p-i3kjk",
        "colab_type": "code",
        "outputId": "cea603fd-efed-4cef-c07b-71407f41dca7",
        "colab": {
          "base_uri": "https://localhost:8080/",
          "height": 52
        }
      },
      "source": [
        "n = int(input(\"Enter the number to be checked :\"))\n",
        "if ((abs(1000 - n) <= 100) or (abs(2000 - n) <= 100)):\n",
        "  print(\"Entered number is within 100 of 1000 or 2000\")\n",
        "else:\n",
        "  print(\"Entered number is not within 100 of 1000 or 2000\")"
      ],
      "execution_count": 0,
      "outputs": [
        {
          "output_type": "stream",
          "text": [
            "Enter the number to be checked :899\n",
            "Number is not within 100 of 1000 or 2000\n"
          ],
          "name": "stdout"
        }
      ]
    },
    {
      "cell_type": "markdown",
      "metadata": {
        "id": "C3xVBlwe_qnj",
        "colab_type": "text"
      },
      "source": [
        "**18. Write a Python program to calculate the sum of three given numbers, if the values are equal then return three times of their sum.**"
      ]
    },
    {
      "cell_type": "code",
      "metadata": {
        "id": "Zsib06tVCCEj",
        "colab_type": "code",
        "outputId": "37e038ab-af82-4c77-be70-aa235a783caa",
        "colab": {
          "base_uri": "https://localhost:8080/",
          "height": 87
        }
      },
      "source": [
        "n1 = int(input(\"Enter first number :\"))\n",
        "n2 = int(input(\"Enter second number :\"))\n",
        "n3 = int(input(\"Enter third number :\"))\n",
        "\n",
        "if n1 == n2 == n3:\n",
        "  print(\"Required sum = {}\".format(3*n1))\n",
        "else:\n",
        "  print(\"Required sum = {}\".format(n1+n2+n3))"
      ],
      "execution_count": 0,
      "outputs": [
        {
          "output_type": "stream",
          "text": [
            "Enter first number :5\n",
            "Enter second number :3\n",
            "Enter third number :8\n",
            "Required sum = 16\n"
          ],
          "name": "stdout"
        }
      ]
    },
    {
      "cell_type": "markdown",
      "metadata": {
        "id": "_jT3NLRR_qjl",
        "colab_type": "text"
      },
      "source": [
        "**19. Write a Python program to get a new string from a given string where \"Is\" has been added to the front. If the given string already begins with \"Is\" then return the string unchanged.**"
      ]
    },
    {
      "cell_type": "code",
      "metadata": {
        "id": "vmrhv_xNCoXv",
        "colab_type": "code",
        "outputId": "e978091b-9d36-4733-fd6c-58a5b2025b3a",
        "colab": {
          "base_uri": "https://localhost:8080/",
          "height": 52
        }
      },
      "source": [
        "given_string = input(\"Enter string : \")\n",
        "\n",
        "if given_string[0:2] == \"Is\" and len(given_string) > 2:\n",
        "  print(\"Given string starts with Is :\", given_string)\n",
        "else:\n",
        "  print(\"Given string do not start with Is or contains less than 2 letters\")"
      ],
      "execution_count": 0,
      "outputs": [
        {
          "output_type": "stream",
          "text": [
            "Enter string : da\n",
            "Given string do not start with Is\n"
          ],
          "name": "stdout"
        }
      ]
    },
    {
      "cell_type": "markdown",
      "metadata": {
        "id": "rT6ZKfma_qhj",
        "colab_type": "text"
      },
      "source": [
        "**20. Write a Python program to get a string which is n (non-negative integer) copies of a given string.**"
      ]
    },
    {
      "cell_type": "code",
      "metadata": {
        "id": "VedsfknsEDvG",
        "colab_type": "code",
        "outputId": "5113f846-fa64-4127-fc6d-cf3c27f96304",
        "colab": {
          "base_uri": "https://localhost:8080/",
          "height": 69
        }
      },
      "source": [
        "integer = int(input(\"Enter the number of copies you want :\"))\n",
        "string = input(\"Enter string :\")\n",
        "emp = []\n",
        "\n",
        "for i in range(0,integer):\n",
        "  emp.append(string)\n",
        "emp"
      ],
      "execution_count": 0,
      "outputs": [
        {
          "output_type": "stream",
          "text": [
            "Enter the number of copies you want :5\n",
            "Enter string :dad\n"
          ],
          "name": "stdout"
        },
        {
          "output_type": "execute_result",
          "data": {
            "text/plain": [
              "['dad', 'dad', 'dad', 'dad', 'dad']"
            ]
          },
          "metadata": {
            "tags": []
          },
          "execution_count": 6
        }
      ]
    },
    {
      "cell_type": "code",
      "metadata": {
        "id": "xYQCxPoGExm0",
        "colab_type": "code",
        "outputId": "3b088e57-4a0e-48e2-a664-2a2d93db58dd",
        "colab": {
          "base_uri": "https://localhost:8080/",
          "height": 52
        }
      },
      "source": [
        "def larger_string(str, n):\n",
        "   result = \"\"\n",
        "   for i in range(n):\n",
        "      result = result + str\n",
        "   return result\n",
        "\n",
        "print(larger_string('abc', 2))\n",
        "print(larger_string('.py', 3))"
      ],
      "execution_count": 0,
      "outputs": [
        {
          "output_type": "stream",
          "text": [
            "abcabc\n",
            ".py.py.py\n"
          ],
          "name": "stdout"
        }
      ]
    },
    {
      "cell_type": "markdown",
      "metadata": {
        "id": "Gz_FsrZz_qdT",
        "colab_type": "text"
      },
      "source": [
        "**21. Write a Python program to find whether a given number (accept from the user) is even or odd, print out an appropriate message to the user.**"
      ]
    },
    {
      "cell_type": "code",
      "metadata": {
        "id": "CyF6ju7PE_0z",
        "colab_type": "code",
        "outputId": "eceab0e2-a2fd-48e4-e663-f23d5ab5ccb3",
        "colab": {
          "base_uri": "https://localhost:8080/",
          "height": 52
        }
      },
      "source": [
        "number = int(input(\"Enter integer :\"))\n",
        "\n",
        "if number % 2 == 0:\n",
        "  print(\"{} is an even number\".format(number))\n",
        "else:\n",
        "  print(\"{} is an odd number\".format(number))"
      ],
      "execution_count": 0,
      "outputs": [
        {
          "output_type": "stream",
          "text": [
            "Enter integer :7\n",
            "7 is an odd number\n"
          ],
          "name": "stdout"
        }
      ]
    },
    {
      "cell_type": "markdown",
      "metadata": {
        "id": "7oZNMXiD_qZh",
        "colab_type": "text"
      },
      "source": [
        "**22. Write a Python program to count the number 4 in a given list.**"
      ]
    },
    {
      "cell_type": "code",
      "metadata": {
        "id": "YZ3gCq-PFlGG",
        "colab_type": "code",
        "outputId": "16e51da6-ee8c-4b6a-d3fa-5358c40e0c5c",
        "colab": {
          "base_uri": "https://localhost:8080/",
          "height": 35
        }
      },
      "source": [
        "lista = [1,4,5,7,3,5,4,6,4,2,3,5,6,4,3,4,4]\n",
        "count = 0\n",
        "for i in lista:\n",
        "  if i == 4:\n",
        "    count = count + 1\n",
        "count"
      ],
      "execution_count": 0,
      "outputs": [
        {
          "output_type": "execute_result",
          "data": {
            "text/plain": [
              "6"
            ]
          },
          "metadata": {
            "tags": []
          },
          "execution_count": 10
        }
      ]
    },
    {
      "cell_type": "markdown",
      "metadata": {
        "id": "jJnBsMR1_qVP",
        "colab_type": "text"
      },
      "source": [
        "**23. Write a Python program to get the n (non-negative integer) copies of the first 2 characters of a given string. Return the n copies of the whole string if the length is less than 2**"
      ]
    },
    {
      "cell_type": "code",
      "metadata": {
        "id": "QFzkQGWlF8wM",
        "colab_type": "code",
        "outputId": "de313888-984b-4d14-d1fa-02adf68b6d29",
        "colab": {
          "base_uri": "https://localhost:8080/",
          "height": 69
        }
      },
      "source": [
        "number = int(input(\"Enter the number :\"))\n",
        "string = input(\"Enter the string :\")\n",
        "a = \"\"\n",
        "\n",
        "if len(string) < 2:\n",
        "  for i in range(0,number):\n",
        "    a = a + string\n",
        "else:\n",
        "  for i in range(0,number):\n",
        "    a = a + string[0:2]\n",
        "\n",
        "a"
      ],
      "execution_count": 0,
      "outputs": [
        {
          "output_type": "stream",
          "text": [
            "Enter the number :5\n",
            "Enter the string :fit\n"
          ],
          "name": "stdout"
        },
        {
          "output_type": "execute_result",
          "data": {
            "text/plain": [
              "'fififififi'"
            ]
          },
          "metadata": {
            "tags": []
          },
          "execution_count": 17
        }
      ]
    },
    {
      "cell_type": "markdown",
      "metadata": {
        "id": "wofozvCF_qRj",
        "colab_type": "text"
      },
      "source": [
        "**24. Write a Python program to test whether a passed letter is a vowel or not.**"
      ]
    },
    {
      "cell_type": "code",
      "metadata": {
        "id": "FfBEI6tUIy3T",
        "colab_type": "code",
        "outputId": "c502f04f-b37f-4aa0-8c76-f60513e80f60",
        "colab": {
          "base_uri": "https://localhost:8080/",
          "height": 52
        }
      },
      "source": [
        "def check_vowel(string):\n",
        "  vowel = [\"a\",\"e\",\"i\",\"o\",\"u\"]\n",
        "  if string in vowel:\n",
        "    print(\"Passed string is a Vowel.\")\n",
        "  else:\n",
        "    print(\"Passed string is not a Vowel.\")\n",
        "\n",
        "letter = input(\"Enter a letter :\")\n",
        "check_vowel(letter)"
      ],
      "execution_count": 0,
      "outputs": [
        {
          "output_type": "stream",
          "text": [
            "Enter a letter :u\n",
            "Passed string is a Vowel.\n"
          ],
          "name": "stdout"
        }
      ]
    },
    {
      "cell_type": "markdown",
      "metadata": {
        "id": "Se5_4Twd_qPA",
        "colab_type": "text"
      },
      "source": [
        "**25. Write a Python program to check whether a specified value is contained in a group of values.**"
      ]
    },
    {
      "cell_type": "code",
      "metadata": {
        "id": "uas48NjsPnGy",
        "colab_type": "code",
        "outputId": "2ed8f7d5-8453-4a7d-d0a1-65b52e737dca",
        "colab": {
          "base_uri": "https://localhost:8080/",
          "height": 50
        }
      },
      "source": [
        "sample_space = list(range(0,132,6))\n",
        "\n",
        "user_input = int(input(\"Enter a digit to find in sample space :\"))\n",
        "\n",
        "if user_input in sample_space:\n",
        "  print(\"Entered digit exists in Sample Space.\")\n",
        "else:\n",
        "    print(\"Entered digit doesnt exist in Sample Space.\")"
      ],
      "execution_count": 0,
      "outputs": [
        {
          "output_type": "stream",
          "text": [
            "Enter a digit to find in sample space :6\n",
            "Entered digit exists in Sample Space.\n"
          ],
          "name": "stdout"
        }
      ]
    },
    {
      "cell_type": "markdown",
      "metadata": {
        "id": "MV29O30INwJd",
        "colab_type": "text"
      },
      "source": [
        "**26. Write a Python program to create a histogram from a given list of integers.**"
      ]
    },
    {
      "cell_type": "code",
      "metadata": {
        "id": "Uc0hNgL-QZu1",
        "colab_type": "code",
        "outputId": "b8e9aaba-a931-4262-f78a-b906f8cfdb7b",
        "colab": {
          "base_uri": "https://localhost:8080/",
          "height": 151
        }
      },
      "source": [
        "integers = [1,4,5,2,6,7,4,2]\n",
        "\n",
        "for i in integers:\n",
        "  print(i,\" :\" ,i*\"*\")"
      ],
      "execution_count": 0,
      "outputs": [
        {
          "output_type": "stream",
          "text": [
            "1  : *\n",
            "4  : ****\n",
            "5  : *****\n",
            "2  : **\n",
            "6  : ******\n",
            "7  : *******\n",
            "4  : ****\n",
            "2  : **\n"
          ],
          "name": "stdout"
        }
      ]
    },
    {
      "cell_type": "code",
      "metadata": {
        "id": "GJ0ieLdWRzIb",
        "colab_type": "code",
        "outputId": "5eb96285-d29e-4911-b593-15bf40e47982",
        "colab": {
          "base_uri": "https://localhost:8080/",
          "height": 50
        }
      },
      "source": [
        "#Alternative solution\n",
        "\n",
        "def histogram( items ):\n",
        "    for n in items:\n",
        "        output = ''\n",
        "        times = n\n",
        "        while( times > 0 ):\n",
        "          output += '*'\n",
        "          times = times - 1\n",
        "        print(output)\n",
        "\n",
        "histogram([1,2])"
      ],
      "execution_count": 0,
      "outputs": [
        {
          "output_type": "stream",
          "text": [
            "*\n",
            "**\n"
          ],
          "name": "stdout"
        }
      ]
    },
    {
      "cell_type": "markdown",
      "metadata": {
        "id": "-T7Fd9luNwGi",
        "colab_type": "text"
      },
      "source": [
        "**27. Write a Python program to concatenate all elements in a list into a string and return it.**"
      ]
    },
    {
      "cell_type": "code",
      "metadata": {
        "id": "G3bknOkjSQFQ",
        "colab_type": "code",
        "outputId": "520344af-3bf2-4342-845c-864ff3014e0c",
        "colab": {
          "base_uri": "https://localhost:8080/",
          "height": 34
        }
      },
      "source": [
        "concatlist = [\"Hello\", \" World !\", \" Welcome \",\"to \", 2019]\n",
        "string = \"\"\n",
        "for i in concatlist:\n",
        "  string += str(i)\n",
        "string"
      ],
      "execution_count": 0,
      "outputs": [
        {
          "output_type": "execute_result",
          "data": {
            "text/plain": [
              "'Hello World ! Welcome to 2019'"
            ]
          },
          "metadata": {
            "tags": []
          },
          "execution_count": 12
        }
      ]
    },
    {
      "cell_type": "markdown",
      "metadata": {
        "id": "NvbNF5itNwBi",
        "colab_type": "text"
      },
      "source": [
        "**28. Write a Python program to print all even numbers from a given numbers list in the same order and stop the printing if any numbers that come after 237 in the sequence.**"
      ]
    },
    {
      "cell_type": "code",
      "metadata": {
        "id": "5n2acAaKTJpP",
        "colab_type": "code",
        "outputId": "85263ff0-9057-40c1-8ec5-fd180540d277",
        "colab": {
          "base_uri": "https://localhost:8080/",
          "height": 218
        }
      },
      "source": [
        "numbers = [    \n",
        "    386, 462, 47, 418, 907, 344, 236, 375, 823, 566, 597, 978, 328, 615, 953, 345, \n",
        "    399, 162, 758, 219, 918, 237, 412, 566, 826, 248, 866, 950, 626, 949, 687, 217, \n",
        "    815, 67, 104, 58, 512, 24, 892, 894, 767, 553, 81, 379, 843, 831, 445, 742, 717, \n",
        "    958,743, 527\n",
        "    ]\n",
        "\n",
        "for i in numbers:\n",
        "  if i%2 == 0:\n",
        "    print(i)\n",
        "  elif i == 237:\n",
        "    print(i)\n",
        "    break"
      ],
      "execution_count": 0,
      "outputs": [
        {
          "output_type": "stream",
          "text": [
            "386\n",
            "462\n",
            "418\n",
            "344\n",
            "236\n",
            "566\n",
            "978\n",
            "328\n",
            "162\n",
            "758\n",
            "918\n",
            "237\n"
          ],
          "name": "stdout"
        }
      ]
    },
    {
      "cell_type": "markdown",
      "metadata": {
        "id": "YvtUBJOpNv-_",
        "colab_type": "text"
      },
      "source": [
        "**29. Write a Python program to print out a set containing all the colors from color_list_1 which are not present in color_list_2.**"
      ]
    },
    {
      "cell_type": "code",
      "metadata": {
        "id": "E8wNF0RkUVDs",
        "colab_type": "code",
        "outputId": "24b18118-21ac-4841-f72e-83016f650b3c",
        "colab": {
          "base_uri": "https://localhost:8080/",
          "height": 34
        }
      },
      "source": [
        "color_list_1 = set([\"White\", \"Black\", \"Red\"])\n",
        "color_list_2 = set([\"Red\", \"Green\"])\n",
        "disjoint_set = set()\n",
        "\n",
        "for i in color_list_1:\n",
        "  if i not in color_list_2:\n",
        "    disjoint_set.add(i)\n",
        "    \n",
        "disjoint_set"
      ],
      "execution_count": 0,
      "outputs": [
        {
          "output_type": "execute_result",
          "data": {
            "text/plain": [
              "{'Black', 'White'}"
            ]
          },
          "metadata": {
            "tags": []
          },
          "execution_count": 21
        }
      ]
    },
    {
      "cell_type": "markdown",
      "metadata": {
        "id": "WLGwhbwnNv7c",
        "colab_type": "text"
      },
      "source": [
        "**30. Write a Python program that will accept the base and height of a triangle and compute the area.**"
      ]
    },
    {
      "cell_type": "code",
      "metadata": {
        "id": "_Txk6QSDVJNZ",
        "colab_type": "code",
        "outputId": "7eb2ae4c-adf2-4ec3-caa5-fbea75822e1d",
        "colab": {
          "base_uri": "https://localhost:8080/",
          "height": 67
        }
      },
      "source": [
        "base = float(input(\"Enter base of triangle dimension : \"))\n",
        "height = float(input(\"Enter height of triangle dimension : \"))\n",
        "\n",
        "def area(x,y):\n",
        "  area = 0.5 * x * y\n",
        "  print(\"Required area of triangle with base {} and height {} is {} sqr units.\".format(x,y,area))\n",
        "\n",
        "area(base,height)"
      ],
      "execution_count": 0,
      "outputs": [
        {
          "output_type": "stream",
          "text": [
            "Enter base of triangle dimension : 76\n",
            "Enter height of triangle dimension : 26\n",
            "Required area of triangle with base 76.0 and height 26.0 is 988.0 sqr units.\n"
          ],
          "name": "stdout"
        }
      ]
    },
    {
      "cell_type": "markdown",
      "metadata": {
        "id": "a9eeYOE-Nv4A",
        "colab_type": "text"
      },
      "source": [
        "**31. Write a Python program to compute the greatest common divisor (GCD) of two positive integers.**"
      ]
    },
    {
      "cell_type": "code",
      "metadata": {
        "id": "AbwsWQAic9oa",
        "colab_type": "code",
        "outputId": "d7c29fe1-adad-48a1-bbe6-402e22d9bbb4",
        "colab": {
          "base_uri": "https://localhost:8080/",
          "height": 34
        }
      },
      "source": [
        "def gcd(x, y):\n",
        "    gcd = 1\n",
        "    \n",
        "    if x % y == 0:\n",
        "        return y\n",
        "    \n",
        "    for k in range(int(y / 2), 0, -1):\n",
        "        if x % k == 0 and y % k == 0:\n",
        "            gcd = k\n",
        "            break  \n",
        "    return gcd\n",
        "\n",
        "gcd(10,15)"
      ],
      "execution_count": 0,
      "outputs": [
        {
          "output_type": "execute_result",
          "data": {
            "text/plain": [
              "5"
            ]
          },
          "metadata": {
            "tags": []
          },
          "execution_count": 1
        }
      ]
    },
    {
      "cell_type": "markdown",
      "metadata": {
        "id": "tSk_cEQQNv0v",
        "colab_type": "text"
      },
      "source": [
        "**32. Write a Python program to get the least common multiple (LCM) of two positive integers.**"
      ]
    },
    {
      "cell_type": "code",
      "metadata": {
        "id": "4qZH5HFYeZAk",
        "colab_type": "code",
        "outputId": "e001a7e8-2ae0-4896-8e95-7bf880450e48",
        "colab": {
          "base_uri": "https://localhost:8080/",
          "height": 34
        }
      },
      "source": [
        "def lcm(x, y):\n",
        "   if x > y:\n",
        "       z = x\n",
        "   else:\n",
        "       z = y\n",
        "\n",
        "   while(True):\n",
        "       if((z % x == 0) and (z % y == 0)):\n",
        "           lcm = z\n",
        "           break\n",
        "       z += 1\n",
        "\n",
        "   return lcm\n",
        "\n",
        "lcm(30,60)"
      ],
      "execution_count": 0,
      "outputs": [
        {
          "output_type": "execute_result",
          "data": {
            "text/plain": [
              "60"
            ]
          },
          "metadata": {
            "tags": []
          },
          "execution_count": 4
        }
      ]
    },
    {
      "cell_type": "markdown",
      "metadata": {
        "id": "QExzL9R1eqyG",
        "colab_type": "text"
      },
      "source": [
        "**33. Write a Python program to sum of three given integers. However, if two values are equal sum will be zero.**"
      ]
    },
    {
      "cell_type": "code",
      "metadata": {
        "id": "EGawRJ89eSA8",
        "colab_type": "code",
        "outputId": "27534f09-2663-479a-d016-7e3afc63f7fd",
        "colab": {
          "base_uri": "https://localhost:8080/",
          "height": 34
        }
      },
      "source": [
        "a = 15\n",
        "b = 15\n",
        "c = 25\n",
        "\n",
        "if a == b or b == c or a == c:\n",
        "  print(0)\n",
        "else:\n",
        "  print(a+b+c)"
      ],
      "execution_count": 0,
      "outputs": [
        {
          "output_type": "stream",
          "text": [
            "0\n"
          ],
          "name": "stdout"
        }
      ]
    },
    {
      "cell_type": "markdown",
      "metadata": {
        "id": "wf73K_AdNvvI",
        "colab_type": "text"
      },
      "source": [
        "**34. Write a Python program to sum of two given integers. However, if the sum is between 15 to 20 it will return 20.**"
      ]
    },
    {
      "cell_type": "code",
      "metadata": {
        "id": "JzJtQKX9ffun",
        "colab_type": "code",
        "outputId": "c3f4432d-2cd7-444c-deae-fa5c986540a9",
        "colab": {
          "base_uri": "https://localhost:8080/",
          "height": 34
        }
      },
      "source": [
        "a = 10\n",
        "b = 8\n",
        "\n",
        "if a+b < 21 and a + b >14:\n",
        "  print(20)\n",
        "else:\n",
        "  print(a+b)"
      ],
      "execution_count": 0,
      "outputs": [
        {
          "output_type": "stream",
          "text": [
            "20\n"
          ],
          "name": "stdout"
        }
      ]
    },
    {
      "cell_type": "markdown",
      "metadata": {
        "id": "YU4ABvIef1Ct",
        "colab_type": "text"
      },
      "source": [
        "**35. Write a Python program that will return true if the two given integer values are equal or their sum or difference is 5.**"
      ]
    },
    {
      "cell_type": "code",
      "metadata": {
        "id": "g6mWPGt3fx78",
        "colab_type": "code",
        "outputId": "dba11f38-8c7a-44db-fb69-e7647eb9076d",
        "colab": {
          "base_uri": "https://localhost:8080/",
          "height": 34
        }
      },
      "source": [
        "a = 2\n",
        "b = 3\n",
        "\n",
        "if a == b or a+b == 5 or a-b == 5 or b-a == 5:\n",
        "  print(True)\n",
        "else:\n",
        "  print(a+b)"
      ],
      "execution_count": 0,
      "outputs": [
        {
          "output_type": "stream",
          "text": [
            "True\n"
          ],
          "name": "stdout"
        }
      ]
    },
    {
      "cell_type": "markdown",
      "metadata": {
        "id": "CpPaINITgQug",
        "colab_type": "text"
      },
      "source": [
        "**36. Write a Python program to add two objects if both objects are an integer type.**"
      ]
    },
    {
      "cell_type": "code",
      "metadata": {
        "id": "MfptSYL2gN-y",
        "colab_type": "code",
        "outputId": "5242d9db-00d4-4c75-8d1e-7fcc2379f14a",
        "colab": {
          "base_uri": "https://localhost:8080/",
          "height": 34
        }
      },
      "source": [
        "a = 15\n",
        "b = 25\n",
        "\n",
        "if type(a) == type(b) == int:\n",
        "  print(a+b)"
      ],
      "execution_count": 0,
      "outputs": [
        {
          "output_type": "stream",
          "text": [
            "40\n"
          ],
          "name": "stdout"
        }
      ]
    },
    {
      "cell_type": "markdown",
      "metadata": {
        "id": "4G9aVtxRgcVZ",
        "colab_type": "text"
      },
      "source": [
        "**37. Write a Python program to display your details like name, age, address in three different lines.**"
      ]
    },
    {
      "cell_type": "code",
      "metadata": {
        "id": "NrENgXQSgcIp",
        "colab_type": "code",
        "outputId": "0d06584e-02b8-48c0-8043-14afe8c67565",
        "colab": {
          "base_uri": "https://localhost:8080/",
          "height": 118
        }
      },
      "source": [
        "name = input(\"Enter your name :\")\n",
        "age = int(input(\"Enter your age :\"))\n",
        "address = input(\"Enter your address :\")\n",
        "\n",
        "print(name)\n",
        "print(age)\n",
        "print(address)"
      ],
      "execution_count": 0,
      "outputs": [
        {
          "output_type": "stream",
          "text": [
            "Enter your name :Bhushan\n",
            "Enter your age :26\n",
            "Enter your address :Pune\n",
            "Bhushan\n",
            "26\n",
            "Pune\n"
          ],
          "name": "stdout"
        }
      ]
    },
    {
      "cell_type": "code",
      "metadata": {
        "id": "t2wEqrL6gNyg",
        "colab_type": "code",
        "colab": {}
      },
      "source": [
        "def personal_details():\n",
        "    name, age = \"Simon\", 19\n",
        "    address = \"Bangalore, Karnataka, India\"\n",
        "    print(\"Name: {}\\nAge: {}\\nAddress: {}\".format(name, age, address))\n",
        "\n",
        "personal_details()"
      ],
      "execution_count": 0,
      "outputs": []
    },
    {
      "cell_type": "markdown",
      "metadata": {
        "id": "EokUWzwDNveA",
        "colab_type": "text"
      },
      "source": [
        "**38. Write a Python program to solve (x + y) * (x + y).**"
      ]
    },
    {
      "cell_type": "code",
      "metadata": {
        "id": "7jetcQn1hDC8",
        "colab_type": "code",
        "outputId": "87ce13c3-ccc4-47a1-cf10-3a56b18a4936",
        "colab": {
          "base_uri": "https://localhost:8080/",
          "height": 34
        }
      },
      "source": [
        "x = 15\n",
        "y = 25\n",
        "\n",
        "print((x+y)*(x+y))"
      ],
      "execution_count": 0,
      "outputs": [
        {
          "output_type": "stream",
          "text": [
            "1600\n"
          ],
          "name": "stdout"
        }
      ]
    },
    {
      "cell_type": "markdown",
      "metadata": {
        "id": "f3F-rZWfNvO3",
        "colab_type": "text"
      },
      "source": [
        "**39. Write a Python program to compute the future value of a specified principal amount, rate of interest, and a number of years.**"
      ]
    },
    {
      "cell_type": "code",
      "metadata": {
        "id": "CTcWp7dnhN0u",
        "colab_type": "code",
        "outputId": "5ec8b864-2865-4c4e-b9b9-0df516c6b2e4",
        "colab": {
          "base_uri": "https://localhost:8080/",
          "height": 34
        }
      },
      "source": [
        "p = 1000\n",
        "n = 12\n",
        "r = 8\n",
        "si = p*n*r/100\n",
        "\n",
        "print(si)"
      ],
      "execution_count": 0,
      "outputs": [
        {
          "output_type": "stream",
          "text": [
            "960.0\n"
          ],
          "name": "stdout"
        }
      ]
    },
    {
      "cell_type": "code",
      "metadata": {
        "id": "-rP9hnM-hcKy",
        "colab_type": "code",
        "outputId": "e6d9d08f-7bcf-43d9-f06a-d08e543424b0",
        "colab": {
          "base_uri": "https://localhost:8080/",
          "height": 34
        }
      },
      "source": [
        "amt = 10000\n",
        "interest = 3.5\n",
        "years = 7\n",
        "\n",
        "future_value  = amt*((1+(0.01*interest)) ** years)\n",
        "print(round(future_value,2))"
      ],
      "execution_count": 0,
      "outputs": [
        {
          "output_type": "stream",
          "text": [
            "12722.79\n"
          ],
          "name": "stdout"
        }
      ]
    },
    {
      "cell_type": "markdown",
      "metadata": {
        "id": "tqlhpDODhNsn",
        "colab_type": "text"
      },
      "source": [
        "**40. Write a Python program to compute the distance between the points (x1, y1) and (x2, y2).**"
      ]
    },
    {
      "cell_type": "code",
      "metadata": {
        "id": "I13vIclMhNi6",
        "colab_type": "code",
        "outputId": "a9135830-9e9b-4194-ce47-38cbdea0df54",
        "colab": {
          "base_uri": "https://localhost:8080/",
          "height": 34
        }
      },
      "source": [
        "import math\n",
        "a = 4,0\n",
        "b = 6,6\n",
        "\n",
        "d = math.sqrt((b[1]-a[1])**2 +(b[0]-a[0])**2)\n",
        "d"
      ],
      "execution_count": 0,
      "outputs": [
        {
          "output_type": "execute_result",
          "data": {
            "text/plain": [
              "6.324555320336759"
            ]
          },
          "metadata": {
            "tags": []
          },
          "execution_count": 35
        }
      ]
    },
    {
      "cell_type": "markdown",
      "metadata": {
        "id": "UPtVohNuhNZF",
        "colab_type": "text"
      },
      "source": [
        "**41. Write a Python program to check whether a file exists.**"
      ]
    },
    {
      "cell_type": "code",
      "metadata": {
        "id": "CYwwYvX9hNOs",
        "colab_type": "code",
        "colab": {
          "base_uri": "https://localhost:8080/",
          "height": 35
        },
        "outputId": "19823da5-142f-48f3-be06-75018603a303"
      },
      "source": [
        "import os.path\n",
        "open('abc.txt', 'w')\n",
        "print(os.path.isfile('abc.txt'))"
      ],
      "execution_count": 1,
      "outputs": [
        {
          "output_type": "stream",
          "text": [
            "True\n"
          ],
          "name": "stdout"
        }
      ]
    },
    {
      "cell_type": "markdown",
      "metadata": {
        "id": "4dGyiHNKhNFk",
        "colab_type": "text"
      },
      "source": [
        "**42. Write a Python program to determine if a Python shell is executing in 32bit or 64bit mode on OS?**"
      ]
    },
    {
      "cell_type": "code",
      "metadata": {
        "id": "htG64lH7hM8-",
        "colab_type": "code",
        "colab": {
          "base_uri": "https://localhost:8080/",
          "height": 35
        },
        "outputId": "b88c0ec6-5d54-4ce6-9b28-6a9327346f70"
      },
      "source": [
        "# For 32 bit it will return 32 and for 64 bit it will return 64\n",
        "\n",
        "import struct\n",
        "\n",
        "print(\"System is {} bits.\".format(struct.calcsize(\"P\")*8))"
      ],
      "execution_count": 8,
      "outputs": [
        {
          "output_type": "stream",
          "text": [
            "System is 64 bits.\n"
          ],
          "name": "stdout"
        }
      ]
    },
    {
      "cell_type": "markdown",
      "metadata": {
        "id": "9FCX5WJYhMzR",
        "colab_type": "text"
      },
      "source": [
        "**43. Write a Python program to get OS name, platform and release information.**"
      ]
    },
    {
      "cell_type": "code",
      "metadata": {
        "id": "FV6AejKXhMqS",
        "colab_type": "code",
        "colab": {
          "base_uri": "https://localhost:8080/",
          "height": 69
        },
        "outputId": "9c2e8f4d-6476-4a3c-e0c2-509068c7c425"
      },
      "source": [
        "import platform\n",
        "import os\n",
        "print(os.name)\n",
        "print(platform.system())\n",
        "print(platform.release())"
      ],
      "execution_count": 9,
      "outputs": [
        {
          "output_type": "stream",
          "text": [
            "posix\n",
            "Linux\n",
            "4.14.137+\n"
          ],
          "name": "stdout"
        }
      ]
    },
    {
      "cell_type": "markdown",
      "metadata": {
        "id": "bkTHqrGkhMgB",
        "colab_type": "text"
      },
      "source": [
        "**44. Write a Python program to locate Python site-packages.**"
      ]
    },
    {
      "cell_type": "code",
      "metadata": {
        "id": "Un5gbkHlhMWh",
        "colab_type": "code",
        "colab": {
          "base_uri": "https://localhost:8080/",
          "height": 35
        },
        "outputId": "7aacd73b-ae01-43ba-a639-6c7fb49d30bd"
      },
      "source": [
        "import site\n",
        "print(site.getsitepackages())"
      ],
      "execution_count": 11,
      "outputs": [
        {
          "output_type": "stream",
          "text": [
            "['/usr/local/lib/python3.6/dist-packages', '/usr/lib/python3/dist-packages', '/usr/lib/python3.6/dist-packages']\n"
          ],
          "name": "stdout"
        }
      ]
    },
    {
      "cell_type": "markdown",
      "metadata": {
        "id": "zt7q6BMthMLV",
        "colab_type": "text"
      },
      "source": [
        "**45. Write a python program to call an external command in Python.**"
      ]
    },
    {
      "cell_type": "code",
      "metadata": {
        "id": "Tz2RcCw1hLu9",
        "colab_type": "code",
        "colab": {
          "base_uri": "https://localhost:8080/",
          "height": 35
        },
        "outputId": "72658848-3067-4917-8a37-5fc66c74b411"
      },
      "source": [
        "from subprocess import call\n",
        "call([\"ls\", \"-l\"])"
      ],
      "execution_count": 14,
      "outputs": [
        {
          "output_type": "execute_result",
          "data": {
            "text/plain": [
              "0"
            ]
          },
          "metadata": {
            "tags": []
          },
          "execution_count": 14
        }
      ]
    },
    {
      "cell_type": "markdown",
      "metadata": {
        "id": "MMVjAtqRhLRz",
        "colab_type": "text"
      },
      "source": [
        "**46. Write a python program to get the path and name of the file that is currently executing.**"
      ]
    },
    {
      "cell_type": "code",
      "metadata": {
        "id": "g6uGvh5whK1C",
        "colab_type": "code",
        "colab": {
          "base_uri": "https://localhost:8080/",
          "height": 183
        },
        "outputId": "7930140f-7433-402e-ba5d-597d3fa3b0d6"
      },
      "source": [
        "import os\n",
        "print(\"Current File Name : \",os.path.realpath(__file__))"
      ],
      "execution_count": 15,
      "outputs": [
        {
          "output_type": "error",
          "ename": "NameError",
          "evalue": "ignored",
          "traceback": [
            "\u001b[0;31m---------------------------------------------------------------------------\u001b[0m",
            "\u001b[0;31mNameError\u001b[0m                                 Traceback (most recent call last)",
            "\u001b[0;32m<ipython-input-15-76e7fb529489>\u001b[0m in \u001b[0;36m<module>\u001b[0;34m()\u001b[0m\n\u001b[1;32m      1\u001b[0m \u001b[0;32mimport\u001b[0m \u001b[0mos\u001b[0m\u001b[0;34m\u001b[0m\u001b[0;34m\u001b[0m\u001b[0m\n\u001b[0;32m----> 2\u001b[0;31m \u001b[0mprint\u001b[0m\u001b[0;34m(\u001b[0m\u001b[0;34m\"Current File Name : \"\u001b[0m\u001b[0;34m,\u001b[0m\u001b[0mos\u001b[0m\u001b[0;34m.\u001b[0m\u001b[0mpath\u001b[0m\u001b[0;34m.\u001b[0m\u001b[0mrealpath\u001b[0m\u001b[0;34m(\u001b[0m\u001b[0m__file__\u001b[0m\u001b[0;34m)\u001b[0m\u001b[0;34m)\u001b[0m\u001b[0;34m\u001b[0m\u001b[0;34m\u001b[0m\u001b[0m\n\u001b[0m",
            "\u001b[0;31mNameError\u001b[0m: name '__file__' is not defined"
          ]
        }
      ]
    },
    {
      "cell_type": "markdown",
      "metadata": {
        "id": "W729pM2laUSZ",
        "colab_type": "text"
      },
      "source": [
        "**47. Write a Python program to find out the number of CPUs using.**"
      ]
    },
    {
      "cell_type": "code",
      "metadata": {
        "id": "-37Fw0X7aT_u",
        "colab_type": "code",
        "colab": {
          "base_uri": "https://localhost:8080/",
          "height": 35
        },
        "outputId": "382a2aa8-aff6-471e-8aea-069c39493ddc"
      },
      "source": [
        "import multiprocessing\n",
        "print(multiprocessing.cpu_count())"
      ],
      "execution_count": 16,
      "outputs": [
        {
          "output_type": "stream",
          "text": [
            "2\n"
          ],
          "name": "stdout"
        }
      ]
    },
    {
      "cell_type": "markdown",
      "metadata": {
        "id": "IpxX8AXbaT6w",
        "colab_type": "text"
      },
      "source": [
        "**48. Write a Python program to parse a string to Float or Integer.**"
      ]
    },
    {
      "cell_type": "code",
      "metadata": {
        "id": "N6YXM-doaT2j",
        "colab_type": "code",
        "colab": {
          "base_uri": "https://localhost:8080/",
          "height": 69
        },
        "outputId": "67af3cdb-b0b6-4da9-d713-86b2d55c7f1d"
      },
      "source": [
        "n = \"246.2458\"\n",
        "print(\"Type of {} is : {}\".format(n,type(n)))\n",
        "n = (float(n))\n",
        "print(\"Type of {} is : {}\".format(n,type(n)))\n",
        "n = (int(float(n)))\n",
        "print(\"Type of {} is : {}\".format(n,type(n)))"
      ],
      "execution_count": 18,
      "outputs": [
        {
          "output_type": "stream",
          "text": [
            "Type of 246.2458 is : <class 'str'>\n",
            "Type of 246.2458 is : <class 'float'>\n",
            "Type of 246 is : <class 'int'>\n"
          ],
          "name": "stdout"
        }
      ]
    },
    {
      "cell_type": "markdown",
      "metadata": {
        "id": "ol-uhy_DaTxx",
        "colab_type": "text"
      },
      "source": [
        "**49. Write a Python program to list all files in a directory in Python.**"
      ]
    },
    {
      "cell_type": "code",
      "metadata": {
        "id": "ndWhSSTeaTtq",
        "colab_type": "code",
        "colab": {
          "base_uri": "https://localhost:8080/",
          "height": 35
        },
        "outputId": "ebd3ce02-f5ce-4827-ce05-a7807362a366"
      },
      "source": [
        "from os import listdir\n",
        "from os.path import isfile, join\n",
        "files_list = [f for f in listdir('/') if isfile(join('/', f))]\n",
        "print(files_list);"
      ],
      "execution_count": 20,
      "outputs": [
        {
          "output_type": "stream",
          "text": [
            "['.dockerenv', 'dlib-19.18.0-cp27-cp27mu-linux_x86_64.whl', 'dlib-19.18.0-cp36-cp36m-linux_x86_64.whl']\n"
          ],
          "name": "stdout"
        }
      ]
    },
    {
      "cell_type": "markdown",
      "metadata": {
        "id": "e1toCAhBaTpa",
        "colab_type": "text"
      },
      "source": [
        "**50. Write a Python program to print without newline or space.**"
      ]
    },
    {
      "cell_type": "code",
      "metadata": {
        "id": "h_zDBEuyaTZo",
        "colab_type": "code",
        "colab": {
          "base_uri": "https://localhost:8080/",
          "height": 52
        },
        "outputId": "5f741309-56b9-4830-fd8b-11f8fbb59d74"
      },
      "source": [
        "for i in range(0, 10):\n",
        "    print('*', end=\"\")\n",
        "print(\"\\n\")"
      ],
      "execution_count": 23,
      "outputs": [
        {
          "output_type": "stream",
          "text": [
            "**********\n",
            "\n"
          ],
          "name": "stdout"
        }
      ]
    },
    {
      "cell_type": "markdown",
      "metadata": {
        "id": "VSN83mdGaTLR",
        "colab_type": "text"
      },
      "source": [
        "**51. Write a Python program to determine profiling of Python programs. Note: A profile is a set of statistics that describes how often and for how long various parts of the program executed. These statistics can be formatted into reports via the pstats module.**"
      ]
    },
    {
      "cell_type": "code",
      "metadata": {
        "id": "gOlCuvDJaTHq",
        "colab_type": "code",
        "colab": {
          "base_uri": "https://localhost:8080/",
          "height": 468
        },
        "outputId": "e0ac2f29-e541-49d4-e1e5-28b4700a0fa6"
      },
      "source": [
        "import cProfile\n",
        "def sum():\n",
        "    print(1+2)\n",
        "cProfile.run('sum()')"
      ],
      "execution_count": 24,
      "outputs": [
        {
          "output_type": "stream",
          "text": [
            "3\n",
            "         39 function calls in 0.001 seconds\n",
            "\n",
            "   Ordered by: standard name\n",
            "\n",
            "   ncalls  tottime  percall  cumtime  percall filename:lineno(function)\n",
            "        1    0.000    0.000    0.001    0.001 <ipython-input-24-db52c97772c7>:2(sum)\n",
            "        1    0.000    0.000    0.001    0.001 <string>:1(<module>)\n",
            "        3    0.000    0.000    0.001    0.000 iostream.py:180(schedule)\n",
            "        2    0.000    0.000    0.000    0.000 iostream.py:284(_is_master_process)\n",
            "        2    0.000    0.000    0.001    0.000 iostream.py:297(_schedule_flush)\n",
            "        2    0.000    0.000    0.001    0.001 iostream.py:342(write)\n",
            "        3    0.000    0.000    0.000    0.000 iostream.py:87(_event_pipe)\n",
            "        3    0.001    0.000    0.001    0.000 socket.py:333(send)\n",
            "        3    0.000    0.000    0.000    0.000 threading.py:1062(_wait_for_tstate_lock)\n",
            "        3    0.000    0.000    0.000    0.000 threading.py:1104(is_alive)\n",
            "        3    0.000    0.000    0.000    0.000 threading.py:506(is_set)\n",
            "        1    0.000    0.000    0.001    0.001 {built-in method builtins.exec}\n",
            "        2    0.000    0.000    0.000    0.000 {built-in method builtins.isinstance}\n",
            "        1    0.000    0.000    0.001    0.001 {built-in method builtins.print}\n",
            "        2    0.000    0.000    0.000    0.000 {built-in method posix.getpid}\n",
            "        3    0.000    0.000    0.000    0.000 {built-in method posix.urandom}\n",
            "        3    0.000    0.000    0.000    0.000 {method 'acquire' of '_thread.lock' objects}\n",
            "        1    0.000    0.000    0.000    0.000 {method 'disable' of '_lsprof.Profiler' objects}\n",
            "\n",
            "\n"
          ],
          "name": "stdout"
        }
      ]
    },
    {
      "cell_type": "markdown",
      "metadata": {
        "id": "ckdoD2tlaTDQ",
        "colab_type": "text"
      },
      "source": [
        "**52. Write a Python program to print to stderr.**"
      ]
    },
    {
      "cell_type": "code",
      "metadata": {
        "id": "eBiQJdXnaS_j",
        "colab_type": "code",
        "colab": {
          "base_uri": "https://localhost:8080/",
          "height": 35
        },
        "outputId": "41db1cad-dc52-49a5-92df-7e062ce2f932"
      },
      "source": [
        "from __future__ import print_function\n",
        "import sys\n",
        "\n",
        "def eprint(*args, **kwargs):\n",
        "    print(*args, file=sys.stderr, **kwargs)\n",
        "\n",
        "eprint(\"abc\", \"efg\", \"xyz\", sep=\"--\")"
      ],
      "execution_count": 25,
      "outputs": [
        {
          "output_type": "stream",
          "text": [
            "abc--efg--xyz\n"
          ],
          "name": "stderr"
        }
      ]
    },
    {
      "cell_type": "markdown",
      "metadata": {
        "id": "_acwTFsPb6KH",
        "colab_type": "text"
      },
      "source": [
        "**53. Write a python program to access environment variables.**"
      ]
    },
    {
      "cell_type": "code",
      "metadata": {
        "id": "s2_Xz63Xb52d",
        "colab_type": "code",
        "colab": {
          "base_uri": "https://localhost:8080/",
          "height": 159
        },
        "outputId": "12e9a756-9e4c-42b2-a18a-262b0f612669"
      },
      "source": [
        "import os\n",
        "# Access all environment variables \n",
        "print('*----------------------------------*')\n",
        "print(os.environ)\n",
        "print('*----------------------------------*')\n",
        "# Access a particular environment variable \n",
        "print(os.environ['HOME'])\n",
        "print('*----------------------------------*')\n",
        "print(os.environ['PATH'])\n",
        "print('*----------------------------------*')"
      ],
      "execution_count": 26,
      "outputs": [
        {
          "output_type": "stream",
          "text": [
            "*----------------------------------*\n",
            "environ({'ENV': '/root/.bashrc', 'GCS_READ_CACHE_BLOCK_SIZE_MB': '16', 'CLOUDSDK_CONFIG': '/content/.config', 'CUDA_VERSION': '10.1.243', 'PATH': '/usr/local/nvidia/bin:/usr/local/cuda/bin:/usr/local/sbin:/usr/local/bin:/usr/sbin:/usr/bin:/sbin:/bin:/tools/node/bin:/tools/google-cloud-sdk/bin:/opt/bin', 'HOME': '/root', 'LD_LIBRARY_PATH': '/usr/local/nvidia/lib:/usr/local/nvidia/lib64', 'LANG': 'en_US.UTF-8', 'SHELL': '/bin/bash', 'LIBRARY_PATH': '/usr/local/cuda/lib64/stubs', 'CUDA_PKG_VERSION': '10-1=10.1.243-1', 'SHLVL': '1', 'NCCL_VERSION': '2.4.8', 'NVIDIA_VISIBLE_DEVICES': 'all', 'TF_FORCE_GPU_ALLOW_GROWTH': 'true', 'DEBIAN_FRONTEND': 'noninteractive', 'CUDNN_VERSION': '7.6.5.32', 'LAST_FORCED_REBUILD': '20191217', 'JPY_PARENT_PID': '18', 'PYTHONPATH': '/env/python', 'DATALAB_SETTINGS_OVERRIDES': '{\"kernelManagerProxyPort\":6000,\"kernelManagerProxyHost\":\"172.28.0.3\",\"jupyterArgs\":[\"--ip=\\\\\"172.28.0.2\\\\\"\"]}', 'NO_GCE_CHECK': 'True', 'GLIBCXX_FORCE_NEW': '1', 'NVIDIA_DRIVER_CAPABILITIES': 'compute,utility', '_': '/tools/node/bin/node', 'LD_PRELOAD': '/usr/lib/x86_64-linux-gnu/libtcmalloc.so.4', 'NVIDIA_REQUIRE_CUDA': 'cuda>=10.1 brand=tesla,driver>=384,driver<385 brand=tesla,driver>=396,driver<397 brand=tesla,driver>=410,driver<411', 'OLDPWD': '/', 'HOSTNAME': '050bd99ce3d7', 'COLAB_GPU': '0', 'PWD': '/', 'GLIBCPP_FORCE_NEW': '1', 'PYTHONWARNINGS': 'ignore:::pip._internal.cli.base_command', 'TBE_CREDS_ADDR': '172.28.0.1:8008', 'TERM': 'xterm-color', 'CLICOLOR': '1', 'PAGER': 'cat', 'GIT_PAGER': 'cat', 'MPLBACKEND': 'module://ipykernel.pylab.backend_inline'})\n",
            "*----------------------------------*\n",
            "/root\n",
            "*----------------------------------*\n",
            "/usr/local/nvidia/bin:/usr/local/cuda/bin:/usr/local/sbin:/usr/local/bin:/usr/sbin:/usr/bin:/sbin:/bin:/tools/node/bin:/tools/google-cloud-sdk/bin:/opt/bin\n",
            "*----------------------------------*\n"
          ],
          "name": "stdout"
        }
      ]
    },
    {
      "cell_type": "markdown",
      "metadata": {
        "id": "hKGWE1L8b7FP",
        "colab_type": "text"
      },
      "source": [
        "**54. Write a Python program to get the current username**"
      ]
    },
    {
      "cell_type": "code",
      "metadata": {
        "id": "74Fna-t1aSqQ",
        "colab_type": "code",
        "colab": {
          "base_uri": "https://localhost:8080/",
          "height": 35
        },
        "outputId": "810d2859-622c-465d-be04-95a5cfa5a9cc"
      },
      "source": [
        "import getpass\n",
        "print(getpass.getuser())"
      ],
      "execution_count": 27,
      "outputs": [
        {
          "output_type": "stream",
          "text": [
            "root\n"
          ],
          "name": "stdout"
        }
      ]
    },
    {
      "cell_type": "markdown",
      "metadata": {
        "id": "10ZQKNAOaSYE",
        "colab_type": "text"
      },
      "source": [
        "**55. Write a Python to find local IP addresses using Python's stdlib**"
      ]
    },
    {
      "cell_type": "code",
      "metadata": {
        "id": "XQqnQodnaSCK",
        "colab_type": "code",
        "colab": {
          "base_uri": "https://localhost:8080/",
          "height": 35
        },
        "outputId": "22a83fab-671f-4dc3-b30b-8657d2e80b5c"
      },
      "source": [
        "import socket\n",
        "print([l for l in ([ip for ip in socket.gethostbyname_ex(socket.gethostname())[2] \n",
        "if not ip.startswith(\"127.\")][:1], [[(s.connect(('8.8.8.8', 53)), \n",
        "s.getsockname()[0], s.close()) for s in [socket.socket(socket.AF_INET, \n",
        "socket.SOCK_DGRAM)]][0][1]]) if l][0][0])"
      ],
      "execution_count": 28,
      "outputs": [
        {
          "output_type": "stream",
          "text": [
            "172.28.0.2\n"
          ],
          "name": "stdout"
        }
      ]
    },
    {
      "cell_type": "markdown",
      "metadata": {
        "id": "debHbq7lcmTY",
        "colab_type": "text"
      },
      "source": [
        "**56. Write a Python program to get height and width of the console window.**"
      ]
    },
    {
      "cell_type": "code",
      "metadata": {
        "id": "VfGf4cI5cyzc",
        "colab_type": "code",
        "colab": {
          "base_uri": "https://localhost:8080/",
          "height": 322
        },
        "outputId": "3609b055-9959-4c3d-a958-043683a1531e"
      },
      "source": [
        "def terminal_size():\n",
        "    import fcntl, termios, struct\n",
        "    th, tw, hp, wp = struct.unpack('HHHH',\n",
        "        fcntl.ioctl(0, termios.TIOCGWINSZ,\n",
        "        struct.pack('HHHH', 0, 0, 0, 0)))\n",
        "    return tw, th\n",
        "\n",
        "print('Number of columns and Rows: ',terminal_size())"
      ],
      "execution_count": 29,
      "outputs": [
        {
          "output_type": "error",
          "ename": "OSError",
          "evalue": "ignored",
          "traceback": [
            "\u001b[0;31m---------------------------------------------------------------------------\u001b[0m",
            "\u001b[0;31mOSError\u001b[0m                                   Traceback (most recent call last)",
            "\u001b[0;32m<ipython-input-29-940ca9246741>\u001b[0m in \u001b[0;36m<module>\u001b[0;34m()\u001b[0m\n\u001b[1;32m      6\u001b[0m     \u001b[0;32mreturn\u001b[0m \u001b[0mtw\u001b[0m\u001b[0;34m,\u001b[0m \u001b[0mth\u001b[0m\u001b[0;34m\u001b[0m\u001b[0;34m\u001b[0m\u001b[0m\n\u001b[1;32m      7\u001b[0m \u001b[0;34m\u001b[0m\u001b[0m\n\u001b[0;32m----> 8\u001b[0;31m \u001b[0mprint\u001b[0m\u001b[0;34m(\u001b[0m\u001b[0;34m'Number of columns and Rows: '\u001b[0m\u001b[0;34m,\u001b[0m\u001b[0mterminal_size\u001b[0m\u001b[0;34m(\u001b[0m\u001b[0;34m)\u001b[0m\u001b[0;34m)\u001b[0m\u001b[0;34m\u001b[0m\u001b[0;34m\u001b[0m\u001b[0m\n\u001b[0m",
            "\u001b[0;32m<ipython-input-29-940ca9246741>\u001b[0m in \u001b[0;36mterminal_size\u001b[0;34m()\u001b[0m\n\u001b[1;32m      3\u001b[0m     th, tw, hp, wp = struct.unpack('HHHH',\n\u001b[1;32m      4\u001b[0m         fcntl.ioctl(0, termios.TIOCGWINSZ,\n\u001b[0;32m----> 5\u001b[0;31m         struct.pack('HHHH', 0, 0, 0, 0)))\n\u001b[0m\u001b[1;32m      6\u001b[0m     \u001b[0;32mreturn\u001b[0m \u001b[0mtw\u001b[0m\u001b[0;34m,\u001b[0m \u001b[0mth\u001b[0m\u001b[0;34m\u001b[0m\u001b[0;34m\u001b[0m\u001b[0m\n\u001b[1;32m      7\u001b[0m \u001b[0;34m\u001b[0m\u001b[0m\n",
            "\u001b[0;31mOSError\u001b[0m: [Errno 25] Inappropriate ioctl for device"
          ]
        }
      ]
    },
    {
      "cell_type": "markdown",
      "metadata": {
        "id": "1g2wnfUUcrTx",
        "colab_type": "text"
      },
      "source": [
        "**57. Write a program to get execution time for a Python method.**"
      ]
    },
    {
      "cell_type": "code",
      "metadata": {
        "id": "_SGxU46acrNW",
        "colab_type": "code",
        "colab": {
          "base_uri": "https://localhost:8080/",
          "height": 52
        },
        "outputId": "f8d1e3ce-1683-40fe-d102-bff5aca06776"
      },
      "source": [
        "import time\n",
        "def sum_of_n_numbers(n):\n",
        "    start_time = time.time()\n",
        "    s = 0\n",
        "    for i in range(1,n+1):\n",
        "        s = s + i\n",
        "    end_time = time.time()\n",
        "    return s,end_time-start_time\n",
        "\n",
        "n = 50000000\n",
        "print(\"\\nTime to sum of 1 to \",n,\" and required time to calculate is :\",sum_of_n_numbers(n))"
      ],
      "execution_count": 33,
      "outputs": [
        {
          "output_type": "stream",
          "text": [
            "\n",
            "Time to sum of 1 to  50000000  and required time to calculate is : (1250000025000000, 3.0132944583892822)\n"
          ],
          "name": "stdout"
        }
      ]
    },
    {
      "cell_type": "markdown",
      "metadata": {
        "id": "V13udI6acrGE",
        "colab_type": "text"
      },
      "source": [
        "**58. Write a python program to sum of the first n positive integers.**"
      ]
    },
    {
      "cell_type": "code",
      "metadata": {
        "id": "mP-FTySLcq_0",
        "colab_type": "code",
        "colab": {
          "base_uri": "https://localhost:8080/",
          "height": 35
        },
        "outputId": "90b8ffb5-85d2-4389-ccd6-09aca59be58a"
      },
      "source": [
        "n = 100\n",
        "sum = 0\n",
        "for x in range(0,n):\n",
        "  sum = sum + x\n",
        "\n",
        "print(\"The sum of first {} natural numbers = {}\".format(n,sum))"
      ],
      "execution_count": 34,
      "outputs": [
        {
          "output_type": "stream",
          "text": [
            "The sum of first 100 natural numbers = 4950\n"
          ],
          "name": "stdout"
        }
      ]
    },
    {
      "cell_type": "markdown",
      "metadata": {
        "id": "vAqvF5BYcq4d",
        "colab_type": "text"
      },
      "source": [
        ""
      ]
    },
    {
      "cell_type": "code",
      "metadata": {
        "id": "9qw3S5VqcqyU",
        "colab_type": "code",
        "colab": {}
      },
      "source": [
        ""
      ],
      "execution_count": 0,
      "outputs": []
    },
    {
      "cell_type": "markdown",
      "metadata": {
        "id": "8RoNOqVBcqo1",
        "colab_type": "text"
      },
      "source": [
        ""
      ]
    },
    {
      "cell_type": "code",
      "metadata": {
        "id": "zDT1q_RCcqhb",
        "colab_type": "code",
        "colab": {}
      },
      "source": [
        ""
      ],
      "execution_count": 0,
      "outputs": []
    },
    {
      "cell_type": "markdown",
      "metadata": {
        "id": "3W1Rdq5kcqau",
        "colab_type": "text"
      },
      "source": [
        ""
      ]
    },
    {
      "cell_type": "code",
      "metadata": {
        "id": "2vLyxtEqcqU_",
        "colab_type": "code",
        "colab": {}
      },
      "source": [
        ""
      ],
      "execution_count": 0,
      "outputs": []
    },
    {
      "cell_type": "markdown",
      "metadata": {
        "id": "STPz74BIcqOT",
        "colab_type": "text"
      },
      "source": [
        ""
      ]
    },
    {
      "cell_type": "code",
      "metadata": {
        "id": "2gAMhLAZcqIP",
        "colab_type": "code",
        "colab": {}
      },
      "source": [
        ""
      ],
      "execution_count": 0,
      "outputs": []
    },
    {
      "cell_type": "markdown",
      "metadata": {
        "id": "DuTEq1OVcqB5",
        "colab_type": "text"
      },
      "source": [
        ""
      ]
    },
    {
      "cell_type": "code",
      "metadata": {
        "id": "LBRcZrn8cp8i",
        "colab_type": "code",
        "colab": {}
      },
      "source": [
        ""
      ],
      "execution_count": 0,
      "outputs": []
    },
    {
      "cell_type": "markdown",
      "metadata": {
        "id": "uh-Gq3r-cp2S",
        "colab_type": "text"
      },
      "source": [
        ""
      ]
    },
    {
      "cell_type": "code",
      "metadata": {
        "id": "WsTtfxF8cpxA",
        "colab_type": "code",
        "colab": {}
      },
      "source": [
        ""
      ],
      "execution_count": 0,
      "outputs": []
    },
    {
      "cell_type": "markdown",
      "metadata": {
        "id": "70Fz-vGacpq1",
        "colab_type": "text"
      },
      "source": [
        ""
      ]
    },
    {
      "cell_type": "code",
      "metadata": {
        "id": "Cpec4-Sxcplx",
        "colab_type": "code",
        "colab": {}
      },
      "source": [
        ""
      ],
      "execution_count": 0,
      "outputs": []
    },
    {
      "cell_type": "markdown",
      "metadata": {
        "id": "8uGVdh0pcpf0",
        "colab_type": "text"
      },
      "source": [
        ""
      ]
    },
    {
      "cell_type": "code",
      "metadata": {
        "id": "_CR6PhBCcpa-",
        "colab_type": "code",
        "colab": {}
      },
      "source": [
        ""
      ],
      "execution_count": 0,
      "outputs": []
    },
    {
      "cell_type": "markdown",
      "metadata": {
        "id": "OYBZUIbZcpTH",
        "colab_type": "text"
      },
      "source": [
        ""
      ]
    },
    {
      "cell_type": "code",
      "metadata": {
        "id": "_eK3dMrxcpGl",
        "colab_type": "code",
        "colab": {}
      },
      "source": [
        ""
      ],
      "execution_count": 0,
      "outputs": []
    },
    {
      "cell_type": "markdown",
      "metadata": {
        "id": "nf51Y7jVcpBt",
        "colab_type": "text"
      },
      "source": [
        ""
      ]
    },
    {
      "cell_type": "code",
      "metadata": {
        "id": "87KWddGAco0q",
        "colab_type": "code",
        "colab": {}
      },
      "source": [
        ""
      ],
      "execution_count": 0,
      "outputs": []
    },
    {
      "cell_type": "markdown",
      "metadata": {
        "id": "9VuXyUU8coVo",
        "colab_type": "text"
      },
      "source": [
        ""
      ]
    },
    {
      "cell_type": "code",
      "metadata": {
        "id": "QYwhaOGNcnNW",
        "colab_type": "code",
        "colab": {}
      },
      "source": [
        ""
      ],
      "execution_count": 0,
      "outputs": []
    },
    {
      "cell_type": "code",
      "metadata": {
        "id": "Bk8o-XeWcmE2",
        "colab_type": "code",
        "colab": {}
      },
      "source": [
        ""
      ],
      "execution_count": 0,
      "outputs": []
    }
  ]
}