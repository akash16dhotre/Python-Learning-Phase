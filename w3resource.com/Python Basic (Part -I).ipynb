{
  "nbformat": 4,
  "nbformat_minor": 0,
  "metadata": {
    "colab": {
      "name": "Untitled0.ipynb",
      "provenance": [],
      "include_colab_link": true
    },
    "kernelspec": {
      "name": "python3",
      "display_name": "Python 3"
    }
  },
  "cells": [
    {
      "cell_type": "markdown",
      "metadata": {
        "id": "view-in-github",
        "colab_type": "text"
      },
      "source": [
        "<a href=\"https://colab.research.google.com/github/eulers-identity/Python-Learning-Phase/blob/master/w3resource.com/Python%20Basic%20(Part%20-I).ipynb\" target=\"_parent\"><img src=\"https://colab.research.google.com/assets/colab-badge.svg\" alt=\"Open In Colab\"/></a>"
      ]
    },
    {
      "cell_type": "markdown",
      "metadata": {
        "id": "Ajx0WR9d8-w5",
        "colab_type": "text"
      },
      "source": [
        "# **Python Basic (Part -I)**"
      ]
    },
    {
      "cell_type": "markdown",
      "metadata": {
        "id": "8yO8VH45-92s",
        "colab_type": "text"
      },
      "source": [
        "**1. Write a Python program to print the following string in a specific format (see the output).**\n",
        "\n",
        "Sample String: \"Twinkle, twinkle, little star, How I wonder what you are! Up above the world so high, Like a diamond in the sky. Twinkle, twinkle, little star, How I wonder what you are!\""
      ]
    },
    {
      "cell_type": "code",
      "metadata": {
        "id": "pxe2kJ5r9Ilj",
        "colab_type": "code",
        "outputId": "6a6af47c-88b5-4133-e0fc-728a9c036c99",
        "colab": {
          "base_uri": "https://localhost:8080/",
          "height": 118
        }
      },
      "source": [
        "print(\"Twinkle, twinkle, little star, \\n\\tHow I wonder what you are! \\n\\t\\tUp above the world so high, \\n\\t\\tLike a diamond in the sky. \\nTwinkle, twinkle, little star, \\n\\tHow I wonder what you are!\")\n",
        "\n",
        "# /n adds break in line\n",
        "# /t adds tab to the line"
      ],
      "execution_count": 0,
      "outputs": [
        {
          "output_type": "stream",
          "text": [
            "Twinkle, twinkle, little star, \n",
            "\tHow I wonder what you are! \n",
            "\t\tUp above the world so high, \n",
            "\t\tLike a diamond in the sky. \n",
            "Twinkle, twinkle, little star, \n",
            "\tHow I wonder what you are!\n"
          ],
          "name": "stdout"
        }
      ]
    },
    {
      "cell_type": "markdown",
      "metadata": {
        "id": "dh0W2YrJ86Fs",
        "colab_type": "text"
      },
      "source": [
        "**2. Write a Python program to get the Python version you are using.**"
      ]
    },
    {
      "cell_type": "code",
      "metadata": {
        "id": "kiDazZ-H_sNq",
        "colab_type": "code",
        "outputId": "4bdbbd96-4432-49eb-b512-4d1fdbcf4038",
        "colab": {
          "base_uri": "https://localhost:8080/",
          "height": 67
        }
      },
      "source": [
        "import sys\n",
        "print (sys.version)\n",
        "print (sys.version_info)"
      ],
      "execution_count": 0,
      "outputs": [
        {
          "output_type": "stream",
          "text": [
            "3.6.8 (default, Oct  7 2019, 12:59:55) \n",
            "[GCC 8.3.0]\n",
            "sys.version_info(major=3, minor=6, micro=8, releaselevel='final', serial=0)\n"
          ],
          "name": "stdout"
        }
      ]
    },
    {
      "cell_type": "markdown",
      "metadata": {
        "id": "xaH9J-VdGO4o",
        "colab_type": "text"
      },
      "source": [
        "A tuple containing the five components of the version number: major, minor, micro, releaselevel, and serial.\n",
        "All values except releaselevel are integers; the release level is 'alpha', 'beta', 'candidate', or 'final'.\n",
        "The version_info value corresponding to the Python version 2.0 is (2, 0, 0, 'final', 0). \n",
        "The components can also be accessed by name, so sys.version_info[0] is equivalent to sys.version_info.major and so on.\n",
        "\n",
        "Note : 'sys' module provides access to some variables used or maintained by the interpreter and to functions that interact strongly with the interpreter"
      ]
    },
    {
      "cell_type": "markdown",
      "metadata": {
        "id": "itbcBRO4_rRZ",
        "colab_type": "text"
      },
      "source": [
        "**3. Write a Python program to display the current date and time.**"
      ]
    },
    {
      "cell_type": "markdown",
      "metadata": {
        "id": "hxwacueu_rN1",
        "colab_type": "text"
      },
      "source": [
        ""
      ]
    },
    {
      "cell_type": "code",
      "metadata": {
        "id": "5muAYNR2Cb2i",
        "colab_type": "code",
        "outputId": "3eac07f5-5acf-41dc-a8f2-7a36dd06a033",
        "colab": {
          "base_uri": "https://localhost:8080/",
          "height": 151
        }
      },
      "source": [
        "import datetime\n",
        "now = datetime.datetime.now()\n",
        "print(\"Datetime variable value =\",now)\n",
        "print(\"Datetime variable type =\",type(now))\n",
        "\n",
        "#by default, python shows time till precision of nanoseconds. This behaviour can be manipulated with strftime function.\n",
        "#date.strftime(format) returns a string representing the date, controlled by an explicit format string. Format codes referring to hours, minutes or seconds will see 0 values.\n",
        "#Changing Y to upper and lower case also formats the value.\n",
        "\n",
        "print (now.strftime(\"%Y-%m-%d %H:%M:%S\"))\n",
        "print (\"Date =\",now.strftime(\"%Y-%m-%d\"))\n",
        "print (\"Date / seperated =\",now.strftime(\"%Y/%m/%d\"))\n",
        "print (\"Month =\",now.strftime(\"%M\"))\n",
        "print (\"Year with Y =\",now.strftime(\"%Y\"))\n",
        "print (\"Year with y =\",now.strftime(\"%y\"))"
      ],
      "execution_count": 0,
      "outputs": [
        {
          "output_type": "stream",
          "text": [
            "Datetime variable value = 2019-12-04 18:20:26.212547\n",
            "Datetime variable type = <class 'datetime.datetime'>\n",
            "2019-12-04 18:20:26\n",
            "Date = 2019-12-04\n",
            "Date / seperated = 2019/12/04\n",
            "Month = 20\n",
            "Year with Y = 2019\n",
            "Year with y = 19\n"
          ],
          "name": "stdout"
        }
      ]
    },
    {
      "cell_type": "markdown",
      "metadata": {
        "id": "m7hdpgnZ_rLp",
        "colab_type": "text"
      },
      "source": [
        "**4. Write a Python program which accepts the radius of a circle from the user and compute the area.**"
      ]
    },
    {
      "cell_type": "code",
      "metadata": {
        "id": "-5qbTx8DGyAg",
        "colab_type": "code",
        "outputId": "8b4dc57f-d86e-4ec5-a5a9-ffd8e199c6ee",
        "colab": {
          "base_uri": "https://localhost:8080/",
          "height": 67
        }
      },
      "source": [
        "import math\n",
        "pi_value = math.pi\n",
        "print(\"High precision value of pi =\",pi_value)\n",
        "\n",
        "def circlearea(radius):\n",
        "  area = math.pi * radius * radius\n",
        "  return area\n",
        "\n",
        "radius = float(input(\"Enter the radius of circle : \"))\n",
        "print(\"Area of circle with radius {} units = {} sqr units\".format(radius,circlearea(radius)))"
      ],
      "execution_count": 0,
      "outputs": [
        {
          "output_type": "stream",
          "text": [
            "High precision value of pi = 3.141592653589793\n",
            "Enter the radius of circle : 12\n",
            "Area of circle with radius 12.0 units = 452.3893421169302 sqr units\n"
          ],
          "name": "stdout"
        }
      ]
    },
    {
      "cell_type": "markdown",
      "metadata": {
        "id": "Js3a422B_rHt",
        "colab_type": "text"
      },
      "source": [
        "**6. Write a Python program which accepts a sequence of comma-separated numbers from user and generate a list and a tuple with those numbers.**\n",
        "\n",
        "Sample data : 3, 5, 7, 23\n",
        "Output :\n",
        "List : ['3', ' 5', ' 7', ' 23']\n",
        "Tuple : ('3', ' 5', ' 7', ' 23')"
      ]
    },
    {
      "cell_type": "code",
      "metadata": {
        "id": "qo7IlOC9J_o6",
        "colab_type": "code",
        "outputId": "e6bddf03-1cf8-46b5-ea97-764cd5e6d61d",
        "colab": {
          "base_uri": "https://localhost:8080/",
          "height": 270
        }
      },
      "source": [
        "x = input(\"Provide set of numbers = \")\n",
        "print(x)\n",
        "listofnum = x.split(\",\")\n",
        "tupleofnum = tuple(list)\n",
        "print('List : ',list)\n",
        "print('Tuple : ',tuple)"
      ],
      "execution_count": 0,
      "outputs": [
        {
          "output_type": "stream",
          "text": [
            "Provide set of numbers = 1,2,4\n",
            "1,2,4\n"
          ],
          "name": "stdout"
        },
        {
          "output_type": "error",
          "ename": "TypeError",
          "evalue": "ignored",
          "traceback": [
            "\u001b[0;31m---------------------------------------------------------------------------\u001b[0m",
            "\u001b[0;31mTypeError\u001b[0m                                 Traceback (most recent call last)",
            "\u001b[0;32m<ipython-input-1-c14e32cd8245>\u001b[0m in \u001b[0;36m<module>\u001b[0;34m()\u001b[0m\n\u001b[1;32m      2\u001b[0m \u001b[0mprint\u001b[0m\u001b[0;34m(\u001b[0m\u001b[0mx\u001b[0m\u001b[0;34m)\u001b[0m\u001b[0;34m\u001b[0m\u001b[0;34m\u001b[0m\u001b[0m\n\u001b[1;32m      3\u001b[0m \u001b[0mlistofnum\u001b[0m \u001b[0;34m=\u001b[0m \u001b[0mx\u001b[0m\u001b[0;34m.\u001b[0m\u001b[0msplit\u001b[0m\u001b[0;34m(\u001b[0m\u001b[0;34m\",\"\u001b[0m\u001b[0;34m)\u001b[0m\u001b[0;34m\u001b[0m\u001b[0;34m\u001b[0m\u001b[0m\n\u001b[0;32m----> 4\u001b[0;31m \u001b[0mtupleofnum\u001b[0m \u001b[0;34m=\u001b[0m \u001b[0mtuple\u001b[0m\u001b[0;34m(\u001b[0m\u001b[0mlist\u001b[0m\u001b[0;34m)\u001b[0m\u001b[0;34m\u001b[0m\u001b[0;34m\u001b[0m\u001b[0m\n\u001b[0m\u001b[1;32m      5\u001b[0m \u001b[0mprint\u001b[0m\u001b[0;34m(\u001b[0m\u001b[0;34m'List : '\u001b[0m\u001b[0;34m,\u001b[0m\u001b[0mlist\u001b[0m\u001b[0;34m)\u001b[0m\u001b[0;34m\u001b[0m\u001b[0;34m\u001b[0m\u001b[0m\n\u001b[1;32m      6\u001b[0m \u001b[0mprint\u001b[0m\u001b[0;34m(\u001b[0m\u001b[0;34m'Tuple : '\u001b[0m\u001b[0;34m,\u001b[0m\u001b[0mtuple\u001b[0m\u001b[0;34m)\u001b[0m\u001b[0;34m\u001b[0m\u001b[0;34m\u001b[0m\u001b[0m\n",
            "\u001b[0;31mTypeError\u001b[0m: 'type' object is not iterable"
          ]
        }
      ]
    },
    {
      "cell_type": "markdown",
      "metadata": {
        "id": "xnXeNSZ9_rF4",
        "colab_type": "text"
      },
      "source": [
        "**7. Write a Python program to accept a filename from the user and print the extension of that.**\n",
        "\n",
        "Sample filename : abc.java\n",
        "\n",
        "Output : java"
      ]
    },
    {
      "cell_type": "code",
      "metadata": {
        "id": "EP3-EOL9LRn5",
        "colab_type": "code",
        "outputId": "e949ab57-124a-4eec-c514-3807b590ae4f",
        "colab": {
          "base_uri": "https://localhost:8080/",
          "height": 52
        }
      },
      "source": [
        "x = input(\"Enter complete filename : \")\n",
        "print(\"The file extension : {}\".format(x.split(\".\")[-1]))\n",
        "\n",
        "#str.format as well as repr.format do same thing.\n",
        "#repr is used for devlopement while str is targeted towards end user.\n",
        "#https://www.geeksforgeeks.org/str-vs-repr-in-python/"
      ],
      "execution_count": 0,
      "outputs": [
        {
          "output_type": "stream",
          "text": [
            "Enter complete filename : mybook.txt\n",
            "The file extension : txt\n"
          ],
          "name": "stdout"
        }
      ]
    },
    {
      "cell_type": "markdown",
      "metadata": {
        "id": "r3jtVtbe_rBv",
        "colab_type": "text"
      },
      "source": [
        "**8. Write a Python program to display the first and last colors from the following list.**\n",
        "\n",
        "color_list = [\"Red\",\"Green\",\"White\" ,\"Black\"]"
      ]
    },
    {
      "cell_type": "code",
      "metadata": {
        "id": "KDwLzwcRYfyF",
        "colab_type": "code",
        "outputId": "ef4293db-6328-489e-fc34-5b90997f050a",
        "colab": {
          "base_uri": "https://localhost:8080/",
          "height": 52
        }
      },
      "source": [
        "color_list = [\"Red\",\"Green\",\"White\" ,\"Black\"]\n",
        "print(\"First color : {},\\nLast color : {}\".format(color_list[0],color_list[-1]))"
      ],
      "execution_count": 0,
      "outputs": [
        {
          "output_type": "stream",
          "text": [
            "First color : Red,\n",
            "Last color : Black\n"
          ],
          "name": "stdout"
        }
      ]
    },
    {
      "cell_type": "markdown",
      "metadata": {
        "id": "xyK4B3aV_q_r",
        "colab_type": "text"
      },
      "source": [
        "**9. Write a Python program to display the examination schedule. (extract the date from exam_st_date).**\n",
        "\n",
        "exam_st_date = (11, 12, 2014)\n",
        "Sample Output : The examination will start from : 11 / 12 / 2014"
      ]
    },
    {
      "cell_type": "code",
      "metadata": {
        "id": "9tRfu2dpZ6OI",
        "colab_type": "code",
        "outputId": "6749cf95-f065-45b8-e52b-2d9d90319239",
        "colab": {
          "base_uri": "https://localhost:8080/",
          "height": 35
        }
      },
      "source": [
        "exam_st_date = (11, 12, 2014)\n",
        "print(\"Examination will start from : {}/{}/{}\".format(exam_st_date[0],exam_st_date[1],exam_st_date[2]))"
      ],
      "execution_count": 0,
      "outputs": [
        {
          "output_type": "stream",
          "text": [
            "Examination will start from : 11/12/2014\n"
          ],
          "name": "stdout"
        }
      ]
    },
    {
      "cell_type": "markdown",
      "metadata": {
        "id": "yXYKbMOz_q75",
        "colab_type": "text"
      },
      "source": [
        "**10. Write a Python program that accepts an integer (n) and computes the value of n+nn+nnn.**"
      ]
    },
    {
      "cell_type": "code",
      "metadata": {
        "id": "QgUC8wwlxLQq",
        "colab_type": "code",
        "outputId": "c7bdfafd-4817-42b5-8901-93143ac638f6",
        "colab": {
          "base_uri": "https://localhost:8080/",
          "height": 50
        }
      },
      "source": [
        "number = int(input(\"Enter a number :\"))\n",
        "\n",
        "required_value = 3*number + 20*number + 100*number\n",
        "\n",
        "print(\"Required sum = {}\".format(required_value))"
      ],
      "execution_count": 0,
      "outputs": [
        {
          "output_type": "stream",
          "text": [
            "Enter a number :2\n",
            "Required sum = 246\n"
          ],
          "name": "stdout"
        }
      ]
    },
    {
      "cell_type": "code",
      "metadata": {
        "id": "r_Ax_0edyIEV",
        "colab_type": "code",
        "outputId": "320897c2-e7cc-4ae8-9571-23993316c608",
        "colab": {
          "base_uri": "https://localhost:8080/",
          "height": 50
        }
      },
      "source": [
        "a = int(input(\"Input an integer : \"))\n",
        "n1 = int( \"%s\" % a )\n",
        "n2 = int( \"%s%s\" % (a,a) )\n",
        "n3 = int( \"%s%s%s\" % (a,a,a) )\n",
        "print (n1+n2+n3)"
      ],
      "execution_count": 0,
      "outputs": [
        {
          "output_type": "stream",
          "text": [
            "Input an integer : 1\n",
            "123\n"
          ],
          "name": "stdout"
        }
      ]
    },
    {
      "cell_type": "markdown",
      "metadata": {
        "id": "uH2xs2YV_q55",
        "colab_type": "text"
      },
      "source": [
        "**11. Write a Python program to print the documents (syntax, description etc.) of Python built-in function(s).\n",
        "Sample function : abs()\n",
        "Expected Result :\n",
        "abs(number) -> number\n",
        "Return the absolute value of the argument**"
      ]
    },
    {
      "cell_type": "code",
      "metadata": {
        "id": "k98n1_R-yDWa",
        "colab_type": "code",
        "outputId": "8fe7f138-3074-4505-c924-59f093977cc5",
        "colab": {
          "base_uri": "https://localhost:8080/",
          "height": 118
        }
      },
      "source": [
        "print(abs.__doc__)\n",
        "print(sum.__doc__)"
      ],
      "execution_count": 0,
      "outputs": [
        {
          "output_type": "stream",
          "text": [
            "Return the absolute value of the argument.\n",
            "Return the sum of a 'start' value (default: 0) plus an iterable of numbers\n",
            "\n",
            "When the iterable is empty, return the start value.\n",
            "This function is intended specifically for use with numeric values and may\n",
            "reject non-numeric types.\n"
          ],
          "name": "stdout"
        }
      ]
    },
    {
      "cell_type": "markdown",
      "metadata": {
        "id": "xe_o2d9i_q2B",
        "colab_type": "text"
      },
      "source": [
        "**12. Write a Python program to print the calendar of a given month and year.\n",
        "Note : Use 'calendar' module.**"
      ]
    },
    {
      "cell_type": "code",
      "metadata": {
        "id": "sMbcp4isy-p0",
        "colab_type": "code",
        "outputId": "f0b37daf-476f-4b1b-df92-9b42f0df98bc",
        "colab": {
          "base_uri": "https://localhost:8080/",
          "height": 218
        }
      },
      "source": [
        "import calendar\n",
        "y = int(input(\"Input the year : \"))\n",
        "m = int(input(\"Input the month : \"))\n",
        "this_month = calendar.month(y, m)\n",
        "print(this_month)\n",
        "\n",
        "print(type(this_month))"
      ],
      "execution_count": 0,
      "outputs": [
        {
          "output_type": "stream",
          "text": [
            "Input the year : 2019\n",
            "Input the month : 12\n",
            "   December 2019\n",
            "Mo Tu We Th Fr Sa Su\n",
            "                   1\n",
            " 2  3  4  5  6  7  8\n",
            " 9 10 11 12 13 14 15\n",
            "16 17 18 19 20 21 22\n",
            "23 24 25 26 27 28 29\n",
            "30 31\n",
            "\n",
            "<class 'str'>\n"
          ],
          "name": "stdout"
        }
      ]
    },
    {
      "cell_type": "markdown",
      "metadata": {
        "id": "q2yGmjLI_qz_",
        "colab_type": "text"
      },
      "source": [
        "**13. Write a Python program to print the following here document.\n",
        "Sample string :\n",
        "a string that you \"don't\" have to escape\n",
        "This\n",
        "is a ....... multi-line\n",
        "heredoc string --------> example**"
      ]
    },
    {
      "cell_type": "code",
      "metadata": {
        "id": "-Csub5ug01Cs",
        "colab_type": "code",
        "outputId": "75abc432-d293-4a17-a000-f6a072615b97",
        "colab": {
          "base_uri": "https://localhost:8080/",
          "height": 118
        }
      },
      "source": [
        "print(\"\"\"\n",
        "a string that you \"don't\" have to escape\n",
        "This\n",
        "is a  ....... multi-line\n",
        "heredoc string --------> example\n",
        "\"\"\")"
      ],
      "execution_count": 0,
      "outputs": [
        {
          "output_type": "stream",
          "text": [
            "\n",
            "a string that you \"don't\" have to escape\n",
            "This\n",
            "is a  ....... multi-line\n",
            "heredoc string --------> example\n",
            "\n"
          ],
          "name": "stdout"
        }
      ]
    },
    {
      "cell_type": "markdown",
      "metadata": {
        "id": "fWhhV-Ob_qwD",
        "colab_type": "text"
      },
      "source": [
        "**14. Write a Python program to calculate number of days between two dates.\n",
        "Sample dates : (2014, 7, 2), (2014, 7, 11)\n",
        "Expected output : 9 days**"
      ]
    },
    {
      "cell_type": "code",
      "metadata": {
        "id": "NawZz6s91a79",
        "colab_type": "code",
        "outputId": "cda36021-af2e-4821-c212-cf5bbfa778a9",
        "colab": {
          "base_uri": "https://localhost:8080/",
          "height": 34
        }
      },
      "source": [
        "from datetime import date\n",
        "f_date = date(2014, 7, 2)\n",
        "l_date = date(2014, 7, 11)\n",
        "delta = l_date - f_date\n",
        "print(delta.days)"
      ],
      "execution_count": 0,
      "outputs": [
        {
          "output_type": "stream",
          "text": [
            "9\n"
          ],
          "name": "stdout"
        }
      ]
    },
    {
      "cell_type": "markdown",
      "metadata": {
        "id": "L_TeQSGR_qt7",
        "colab_type": "text"
      },
      "source": [
        "**15. Write a Python program to get the volume of a sphere with radius 6.**"
      ]
    },
    {
      "cell_type": "code",
      "metadata": {
        "id": "pmYcp8PY2Hgg",
        "colab_type": "code",
        "outputId": "5d174c04-7479-48ab-b2b3-5dbd6be4f5c5",
        "colab": {
          "base_uri": "https://localhost:8080/",
          "height": 34
        }
      },
      "source": [
        "import math\n",
        "radius = 6\n",
        "pi = math.pi\n",
        "volume = 4/3*pi*radius*radius*radius\n",
        "volume"
      ],
      "execution_count": 0,
      "outputs": [
        {
          "output_type": "execute_result",
          "data": {
            "text/plain": [
              "904.7786842338604"
            ]
          },
          "metadata": {
            "tags": []
          },
          "execution_count": 23
        }
      ]
    },
    {
      "cell_type": "code",
      "metadata": {
        "id": "Cumn8wWb2kK4",
        "colab_type": "code",
        "outputId": "57017017-6b05-465d-ec44-b5afd1eae114",
        "colab": {
          "base_uri": "https://localhost:8080/",
          "height": 34
        }
      },
      "source": [
        "#Alternate solution\n",
        "pi = 3.1415926535897931\n",
        "r= 6.0\n",
        "V= 4.0/3.0*pi* r**3\n",
        "print('The volume of the sphere is: ',V)"
      ],
      "execution_count": 0,
      "outputs": [
        {
          "output_type": "stream",
          "text": [
            "The volume of the sphere is:  904.7786842338603\n"
          ],
          "name": "stdout"
        }
      ]
    },
    {
      "cell_type": "markdown",
      "metadata": {
        "id": "17A0EOmP_qph",
        "colab_type": "text"
      },
      "source": [
        "**16. Write a Python program to get the difference between a given number and 17, if the number is greater than 17 return double the absolute difference.**"
      ]
    },
    {
      "cell_type": "code",
      "metadata": {
        "id": "3Knqmnrn21WD",
        "colab_type": "code",
        "outputId": "1e8c712c-ea41-4304-8380-1dd893ec1338",
        "colab": {
          "base_uri": "https://localhost:8080/",
          "height": 50
        }
      },
      "source": [
        "given_no = int(input(\"Enter a number :\"))\n",
        "if given_no > 17:\n",
        "  print(given_no - 17)\n",
        "else:\n",
        "  print(17 - given_no)"
      ],
      "execution_count": 0,
      "outputs": [
        {
          "output_type": "stream",
          "text": [
            "Enter a number :6\n",
            "11\n"
          ],
          "name": "stdout"
        }
      ]
    },
    {
      "cell_type": "code",
      "metadata": {
        "id": "VoVpiaqY3kpU",
        "colab_type": "code",
        "outputId": "d8399759-b19b-43b3-f10c-f14b54d592db",
        "colab": {
          "base_uri": "https://localhost:8080/",
          "height": 50
        }
      },
      "source": [
        "#Alternate\n",
        "def difference(n):\n",
        "    if n <= 17:\n",
        "        return 17 - n\n",
        "    else:\n",
        "        return (n - 17) * 2 \n",
        "\n",
        "print(difference(22))\n",
        "print(difference(14))"
      ],
      "execution_count": 0,
      "outputs": [
        {
          "output_type": "stream",
          "text": [
            "10\n",
            "3\n"
          ],
          "name": "stdout"
        }
      ]
    },
    {
      "cell_type": "markdown",
      "metadata": {
        "id": "UNKVA0yOAQDf",
        "colab_type": "text"
      },
      "source": [
        "**17. Write a Python program to test whether a number is within 100 of 1000 or 2000.**"
      ]
    },
    {
      "cell_type": "code",
      "metadata": {
        "id": "1-r32p-i3kjk",
        "colab_type": "code",
        "colab": {
          "base_uri": "https://localhost:8080/",
          "height": 52
        },
        "outputId": "cea603fd-efed-4cef-c07b-71407f41dca7"
      },
      "source": [
        "n = int(input(\"Enter the number to be checked :\"))\n",
        "if ((abs(1000 - n) <= 100) or (abs(2000 - n) <= 100)):\n",
        "  print(\"Number is within 100 of 1000 or 2000\")\n",
        "else:\n",
        "  print(\"Number is not within 100 of 1000 or 2000\")"
      ],
      "execution_count": 4,
      "outputs": [
        {
          "output_type": "stream",
          "text": [
            "Enter the number to be checked :899\n",
            "Number is not within 100 of 1000 or 2000\n"
          ],
          "name": "stdout"
        }
      ]
    },
    {
      "cell_type": "markdown",
      "metadata": {
        "id": "C3xVBlwe_qnj",
        "colab_type": "text"
      },
      "source": [
        ""
      ]
    },
    {
      "cell_type": "markdown",
      "metadata": {
        "id": "_jT3NLRR_qjl",
        "colab_type": "text"
      },
      "source": [
        ""
      ]
    },
    {
      "cell_type": "markdown",
      "metadata": {
        "id": "rT6ZKfma_qhj",
        "colab_type": "text"
      },
      "source": [
        ""
      ]
    },
    {
      "cell_type": "markdown",
      "metadata": {
        "id": "Gz_FsrZz_qdT",
        "colab_type": "text"
      },
      "source": [
        ""
      ]
    },
    {
      "cell_type": "markdown",
      "metadata": {
        "id": "7oZNMXiD_qZh",
        "colab_type": "text"
      },
      "source": [
        ""
      ]
    },
    {
      "cell_type": "markdown",
      "metadata": {
        "id": "jJnBsMR1_qVP",
        "colab_type": "text"
      },
      "source": [
        ""
      ]
    },
    {
      "cell_type": "markdown",
      "metadata": {
        "id": "wofozvCF_qRj",
        "colab_type": "text"
      },
      "source": [
        ""
      ]
    },
    {
      "cell_type": "markdown",
      "metadata": {
        "id": "Se5_4Twd_qPA",
        "colab_type": "text"
      },
      "source": [
        ""
      ]
    }
  ]
}