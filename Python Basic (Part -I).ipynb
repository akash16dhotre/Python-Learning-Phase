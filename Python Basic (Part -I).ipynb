{
  "nbformat": 4,
  "nbformat_minor": 0,
  "metadata": {
    "colab": {
      "name": "Untitled0.ipynb",
      "provenance": [],
      "include_colab_link": true
    },
    "kernelspec": {
      "name": "python3",
      "display_name": "Python 3"
    }
  },
  "cells": [
    {
      "cell_type": "markdown",
      "metadata": {
        "id": "view-in-github",
        "colab_type": "text"
      },
      "source": [
        "<a href=\"https://colab.research.google.com/github/eulers-identity/Python-Learning-Phase/blob/master/Python%20Basic%20(Part%20-I).ipynb\" target=\"_parent\"><img src=\"https://colab.research.google.com/assets/colab-badge.svg\" alt=\"Open In Colab\"/></a>"
      ]
    },
    {
      "cell_type": "markdown",
      "metadata": {
        "id": "Ajx0WR9d8-w5",
        "colab_type": "text"
      },
      "source": [
        "# **Python Basic (Part -I)**"
      ]
    },
    {
      "cell_type": "markdown",
      "metadata": {
        "id": "8yO8VH45-92s",
        "colab_type": "text"
      },
      "source": [
        "**1. Write a Python program to print the following string in a specific format (see the output).**\n",
        "\n",
        "Sample String: \"Twinkle, twinkle, little star, How I wonder what you are! Up above the world so high, Like a diamond in the sky. Twinkle, twinkle, little star, How I wonder what you are!\""
      ]
    },
    {
      "cell_type": "code",
      "metadata": {
        "id": "pxe2kJ5r9Ilj",
        "colab_type": "code",
        "colab": {
          "base_uri": "https://localhost:8080/",
          "height": 118
        },
        "outputId": "f7797ad2-5322-4776-fdc6-6c432b8f7b6c"
      },
      "source": [
        "print(\"Twinkle, twinkle, little star, \\n\\tHow I wonder what you are! \\n\\t\\tUp above the world so high, \\n\\t\\tLike a diamond in the sky. \\nTwinkle, twinkle, little star, \\n\\tHow I wonder what you are!\")\n",
        "\n",
        "# /n adds break in line\n",
        "# /t adds tab to the line"
      ],
      "execution_count": 6,
      "outputs": [
        {
          "output_type": "stream",
          "text": [
            "Twinkle, twinkle, little star, \n",
            "\tHow I wonder what you are! \n",
            "\t\tUp above the world so high, \n",
            "\t\tLike a diamond in the sky. \n",
            "Twinkle, twinkle, little star, \n",
            "\tHow I wonder what you are!\n"
          ],
          "name": "stdout"
        }
      ]
    },
    {
      "cell_type": "markdown",
      "metadata": {
        "id": "dh0W2YrJ86Fs",
        "colab_type": "text"
      },
      "source": [
        "**2. Write a Python program to get the Python version you are using.**"
      ]
    },
    {
      "cell_type": "code",
      "metadata": {
        "id": "kiDazZ-H_sNq",
        "colab_type": "code",
        "colab": {
          "base_uri": "https://localhost:8080/",
          "height": 104
        },
        "outputId": "51d3b77e-9412-49b5-ab2e-cdbed1a89bc9"
      },
      "source": [
        "import sys\n",
        "print (sys.version)\n",
        "print (sys.version_info)\n",
        "\n",
        "'''\n",
        "A tuple containing the five components of the version number: major, minor, micro, releaselevel, and serial.\n",
        "All values except releaselevel are integers; the release level is 'alpha', 'beta', 'candidate', or 'final'.\n",
        "The version_info value corresponding to the Python version 2.0 is (2, 0, 0, 'final', 0). \n",
        "The components can also be accessed by name, so sys.version_info[0] is equivalent to sys.version_info.major and so on.\n",
        "\n",
        "Note : 'sys' module provides access to some variables used or maintained by the interpreter and to functions that interact strongly with the interpreter.\n",
        "'''"
      ],
      "execution_count": 5,
      "outputs": [
        {
          "output_type": "stream",
          "text": [
            "3.6.8 (default, Oct  7 2019, 12:59:55) \n",
            "[GCC 8.3.0]\n",
            "sys.version_info(major=3, minor=6, micro=8, releaselevel='final', serial=0)\n"
          ],
          "name": "stdout"
        },
        {
          "output_type": "execute_result",
          "data": {
            "text/plain": [
              "\"\\nA tuple containing the five components of the version number: major, minor, micro, releaselevel, and serial.\\nAll values except releaselevel are integers; the release level is 'alpha', 'beta', 'candidate', or 'final'.\\nThe version_info value corresponding to the Python version 2.0 is (2, 0, 0, 'final', 0). \\nThe components can also be accessed by name, so sys.version_info[0] is equivalent to sys.version_info.major and so on.\\n\\nNote : 'sys' module provides access to some variables used or maintained by the interpreter and to functions that interact strongly with the interpreter.\\n\""
            ]
          },
          "metadata": {
            "tags": []
          },
          "execution_count": 5
        }
      ]
    },
    {
      "cell_type": "markdown",
      "metadata": {
        "id": "itbcBRO4_rRZ",
        "colab_type": "text"
      },
      "source": [
        ""
      ]
    },
    {
      "cell_type": "markdown",
      "metadata": {
        "id": "hxwacueu_rN1",
        "colab_type": "text"
      },
      "source": [
        ""
      ]
    },
    {
      "cell_type": "markdown",
      "metadata": {
        "id": "m7hdpgnZ_rLp",
        "colab_type": "text"
      },
      "source": [
        ""
      ]
    },
    {
      "cell_type": "markdown",
      "metadata": {
        "id": "Js3a422B_rHt",
        "colab_type": "text"
      },
      "source": [
        ""
      ]
    },
    {
      "cell_type": "markdown",
      "metadata": {
        "id": "xnXeNSZ9_rF4",
        "colab_type": "text"
      },
      "source": [
        ""
      ]
    },
    {
      "cell_type": "markdown",
      "metadata": {
        "id": "r3jtVtbe_rBv",
        "colab_type": "text"
      },
      "source": [
        ""
      ]
    },
    {
      "cell_type": "markdown",
      "metadata": {
        "id": "xyK4B3aV_q_r",
        "colab_type": "text"
      },
      "source": [
        ""
      ]
    },
    {
      "cell_type": "markdown",
      "metadata": {
        "id": "yXYKbMOz_q75",
        "colab_type": "text"
      },
      "source": [
        ""
      ]
    },
    {
      "cell_type": "markdown",
      "metadata": {
        "id": "uH2xs2YV_q55",
        "colab_type": "text"
      },
      "source": [
        ""
      ]
    },
    {
      "cell_type": "markdown",
      "metadata": {
        "id": "xe_o2d9i_q2B",
        "colab_type": "text"
      },
      "source": [
        ""
      ]
    },
    {
      "cell_type": "markdown",
      "metadata": {
        "id": "q2yGmjLI_qz_",
        "colab_type": "text"
      },
      "source": [
        ""
      ]
    },
    {
      "cell_type": "markdown",
      "metadata": {
        "id": "fWhhV-Ob_qwD",
        "colab_type": "text"
      },
      "source": [
        ""
      ]
    },
    {
      "cell_type": "markdown",
      "metadata": {
        "id": "L_TeQSGR_qt7",
        "colab_type": "text"
      },
      "source": [
        ""
      ]
    },
    {
      "cell_type": "markdown",
      "metadata": {
        "id": "17A0EOmP_qph",
        "colab_type": "text"
      },
      "source": [
        ""
      ]
    },
    {
      "cell_type": "markdown",
      "metadata": {
        "id": "C3xVBlwe_qnj",
        "colab_type": "text"
      },
      "source": [
        ""
      ]
    },
    {
      "cell_type": "markdown",
      "metadata": {
        "id": "_jT3NLRR_qjl",
        "colab_type": "text"
      },
      "source": [
        ""
      ]
    },
    {
      "cell_type": "markdown",
      "metadata": {
        "id": "rT6ZKfma_qhj",
        "colab_type": "text"
      },
      "source": [
        ""
      ]
    },
    {
      "cell_type": "markdown",
      "metadata": {
        "id": "Gz_FsrZz_qdT",
        "colab_type": "text"
      },
      "source": [
        ""
      ]
    },
    {
      "cell_type": "markdown",
      "metadata": {
        "id": "7oZNMXiD_qZh",
        "colab_type": "text"
      },
      "source": [
        ""
      ]
    },
    {
      "cell_type": "markdown",
      "metadata": {
        "id": "jJnBsMR1_qVP",
        "colab_type": "text"
      },
      "source": [
        ""
      ]
    },
    {
      "cell_type": "markdown",
      "metadata": {
        "id": "wofozvCF_qRj",
        "colab_type": "text"
      },
      "source": [
        ""
      ]
    },
    {
      "cell_type": "markdown",
      "metadata": {
        "id": "Se5_4Twd_qPA",
        "colab_type": "text"
      },
      "source": [
        ""
      ]
    }
  ]
}