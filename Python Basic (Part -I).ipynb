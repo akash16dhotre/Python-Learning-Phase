{
  "nbformat": 4,
  "nbformat_minor": 0,
  "metadata": {
    "colab": {
      "name": "Untitled0.ipynb",
      "provenance": [],
      "include_colab_link": true
    },
    "kernelspec": {
      "name": "python3",
      "display_name": "Python 3"
    }
  },
  "cells": [
    {
      "cell_type": "markdown",
      "metadata": {
        "id": "view-in-github",
        "colab_type": "text"
      },
      "source": [
        "<a href=\"https://colab.research.google.com/github/eulers-identity/Python-Learning-Phase/blob/master/Python%20Basic%20(Part%20-I).ipynb\" target=\"_parent\"><img src=\"https://colab.research.google.com/assets/colab-badge.svg\" alt=\"Open In Colab\"/></a>"
      ]
    },
    {
      "cell_type": "markdown",
      "metadata": {
        "id": "Ajx0WR9d8-w5",
        "colab_type": "text"
      },
      "source": [
        "# **Python Basic (Part -I)**"
      ]
    },
    {
      "cell_type": "markdown",
      "metadata": {
        "id": "8yO8VH45-92s",
        "colab_type": "text"
      },
      "source": [
        "**1. Write a Python program to print the following string in a specific format (see the output).**\n",
        "\n",
        "Sample String: \"Twinkle, twinkle, little star, How I wonder what you are! Up above the world so high, Like a diamond in the sky. Twinkle, twinkle, little star, How I wonder what you are!\""
      ]
    },
    {
      "cell_type": "code",
      "metadata": {
        "id": "pxe2kJ5r9Ilj",
        "colab_type": "code",
        "colab": {
          "base_uri": "https://localhost:8080/",
          "height": 118
        },
        "outputId": "6a6af47c-88b5-4133-e0fc-728a9c036c99"
      },
      "source": [
        "print(\"Twinkle, twinkle, little star, \\n\\tHow I wonder what you are! \\n\\t\\tUp above the world so high, \\n\\t\\tLike a diamond in the sky. \\nTwinkle, twinkle, little star, \\n\\tHow I wonder what you are!\")\n",
        "\n",
        "# /n adds break in line\n",
        "# /t adds tab to the line"
      ],
      "execution_count": 16,
      "outputs": [
        {
          "output_type": "stream",
          "text": [
            "Twinkle, twinkle, little star, \n",
            "\tHow I wonder what you are! \n",
            "\t\tUp above the world so high, \n",
            "\t\tLike a diamond in the sky. \n",
            "Twinkle, twinkle, little star, \n",
            "\tHow I wonder what you are!\n"
          ],
          "name": "stdout"
        }
      ]
    },
    {
      "cell_type": "markdown",
      "metadata": {
        "id": "dh0W2YrJ86Fs",
        "colab_type": "text"
      },
      "source": [
        "**2. Write a Python program to get the Python version you are using.**"
      ]
    },
    {
      "cell_type": "code",
      "metadata": {
        "id": "kiDazZ-H_sNq",
        "colab_type": "code",
        "colab": {
          "base_uri": "https://localhost:8080/",
          "height": 67
        },
        "outputId": "3d4d6d32-30ab-4e18-cfd9-3316c879c58c"
      },
      "source": [
        "import sys\n",
        "print (sys.version)\n",
        "print (sys.version_info)"
      ],
      "execution_count": 14,
      "outputs": [
        {
          "output_type": "stream",
          "text": [
            "3.6.8 (default, Oct  7 2019, 12:59:55) \n",
            "[GCC 8.3.0]\n",
            "sys.version_info(major=3, minor=6, micro=8, releaselevel='final', serial=0)\n"
          ],
          "name": "stdout"
        }
      ]
    },
    {
      "cell_type": "markdown",
      "metadata": {
        "id": "U5i-AudPDLAu",
        "colab_type": "text"
      },
      "source": [
        "\n",
        "\n",
        "A tuple containing the five components of the version number: major, minor, micro, releaselevel, and serial.\n",
        "All values except releaselevel are integers; the release level is 'alpha', 'beta', 'candidate', or 'final'.\n",
        "The version_info value corresponding to the Python version 2.0 is (2, 0, 0, 'final', 0). \n",
        "The components can also be accessed by name, so sys.version_info[0] is equivalent to sys.version_info.major and so on.\n",
        "\n",
        "Note : 'sys' module provides access to some variables used or maintained by the interpreter and to functions that interact strongly with the interpreter.\n",
        "\n"
      ]
    },
    {
      "cell_type": "markdown",
      "metadata": {
        "id": "itbcBRO4_rRZ",
        "colab_type": "text"
      },
      "source": [
        "**3. Write a Python program to display the current date and time.**"
      ]
    },
    {
      "cell_type": "markdown",
      "metadata": {
        "id": "hxwacueu_rN1",
        "colab_type": "text"
      },
      "source": [
        ""
      ]
    },
    {
      "cell_type": "code",
      "metadata": {
        "id": "5muAYNR2Cb2i",
        "colab_type": "code",
        "colab": {
          "base_uri": "https://localhost:8080/",
          "height": 134
        },
        "outputId": "800d550a-2195-4e15-cea1-a512454eef21"
      },
      "source": [
        "import datetime\n",
        "now = datetime.datetime.now()\n",
        "print(now)\n",
        "print(type(now))\n",
        "\n",
        "#by default, python shows time till precision of nanoseconds. This behaviour can be manipulated with strftime function.\n",
        "#date.strftime(format) returns a string representing the date, controlled by an explicit format string. Format codes referring to hours, minutes or seconds will see 0 values.\n",
        "\n",
        "print (now.strftime(\"%Y-%m-%d %H:%M:%S\"))\n",
        "print (\"Date =\",now.strftime(\"%Y-%m-%d\"))\n",
        "print (\"Date / seperated =\",now.strftime(\"%Y/%m/%d\"))\n",
        "print (\"Month =\",now.strftime(\"%m\"))\n",
        "print (\"Year =\",now.strftime(\"%y\"))"
      ],
      "execution_count": 22,
      "outputs": [
        {
          "output_type": "stream",
          "text": [
            "2019-12-04 18:01:58.628194\n",
            "<class 'datetime.datetime'>\n",
            "2019-12-04 18:01:58\n",
            "Date = 2019-12-04\n",
            "Date / seperated = 2019/12/04\n",
            "Month = 12\n",
            "Year = 19\n"
          ],
          "name": "stdout"
        }
      ]
    },
    {
      "cell_type": "markdown",
      "metadata": {
        "id": "m7hdpgnZ_rLp",
        "colab_type": "text"
      },
      "source": [
        ""
      ]
    },
    {
      "cell_type": "markdown",
      "metadata": {
        "id": "Js3a422B_rHt",
        "colab_type": "text"
      },
      "source": [
        ""
      ]
    },
    {
      "cell_type": "markdown",
      "metadata": {
        "id": "xnXeNSZ9_rF4",
        "colab_type": "text"
      },
      "source": [
        ""
      ]
    },
    {
      "cell_type": "markdown",
      "metadata": {
        "id": "r3jtVtbe_rBv",
        "colab_type": "text"
      },
      "source": [
        ""
      ]
    },
    {
      "cell_type": "markdown",
      "metadata": {
        "id": "xyK4B3aV_q_r",
        "colab_type": "text"
      },
      "source": [
        ""
      ]
    },
    {
      "cell_type": "markdown",
      "metadata": {
        "id": "yXYKbMOz_q75",
        "colab_type": "text"
      },
      "source": [
        ""
      ]
    },
    {
      "cell_type": "markdown",
      "metadata": {
        "id": "uH2xs2YV_q55",
        "colab_type": "text"
      },
      "source": [
        ""
      ]
    },
    {
      "cell_type": "markdown",
      "metadata": {
        "id": "xe_o2d9i_q2B",
        "colab_type": "text"
      },
      "source": [
        ""
      ]
    },
    {
      "cell_type": "markdown",
      "metadata": {
        "id": "q2yGmjLI_qz_",
        "colab_type": "text"
      },
      "source": [
        ""
      ]
    },
    {
      "cell_type": "markdown",
      "metadata": {
        "id": "fWhhV-Ob_qwD",
        "colab_type": "text"
      },
      "source": [
        ""
      ]
    },
    {
      "cell_type": "markdown",
      "metadata": {
        "id": "L_TeQSGR_qt7",
        "colab_type": "text"
      },
      "source": [
        ""
      ]
    },
    {
      "cell_type": "markdown",
      "metadata": {
        "id": "17A0EOmP_qph",
        "colab_type": "text"
      },
      "source": [
        ""
      ]
    },
    {
      "cell_type": "markdown",
      "metadata": {
        "id": "C3xVBlwe_qnj",
        "colab_type": "text"
      },
      "source": [
        ""
      ]
    },
    {
      "cell_type": "markdown",
      "metadata": {
        "id": "_jT3NLRR_qjl",
        "colab_type": "text"
      },
      "source": [
        ""
      ]
    },
    {
      "cell_type": "markdown",
      "metadata": {
        "id": "rT6ZKfma_qhj",
        "colab_type": "text"
      },
      "source": [
        ""
      ]
    },
    {
      "cell_type": "markdown",
      "metadata": {
        "id": "Gz_FsrZz_qdT",
        "colab_type": "text"
      },
      "source": [
        ""
      ]
    },
    {
      "cell_type": "markdown",
      "metadata": {
        "id": "7oZNMXiD_qZh",
        "colab_type": "text"
      },
      "source": [
        ""
      ]
    },
    {
      "cell_type": "markdown",
      "metadata": {
        "id": "jJnBsMR1_qVP",
        "colab_type": "text"
      },
      "source": [
        ""
      ]
    },
    {
      "cell_type": "markdown",
      "metadata": {
        "id": "wofozvCF_qRj",
        "colab_type": "text"
      },
      "source": [
        ""
      ]
    },
    {
      "cell_type": "markdown",
      "metadata": {
        "id": "Se5_4Twd_qPA",
        "colab_type": "text"
      },
      "source": [
        ""
      ]
    }
  ]
}